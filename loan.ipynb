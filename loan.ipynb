{
 "cells": [
  {
   "cell_type": "code",
   "execution_count": 1,
   "metadata": {},
   "outputs": [],
   "source": [
    "import numpy as np\n",
    "import pandas as pd\n",
    "import seaborn as sns\n",
    "import missingno as msno\n",
    "import matplotlib.pyplot as plt"
   ]
  },
  {
   "cell_type": "code",
   "execution_count": 2,
   "metadata": {},
   "outputs": [],
   "source": [
    "data = pd.read_csv(\"Loan_Default.csv\")"
   ]
  },
  {
   "cell_type": "code",
   "execution_count": 3,
   "metadata": {},
   "outputs": [
    {
     "data": {
      "text/html": [
       "<div>\n",
       "<style scoped>\n",
       "    .dataframe tbody tr th:only-of-type {\n",
       "        vertical-align: middle;\n",
       "    }\n",
       "\n",
       "    .dataframe tbody tr th {\n",
       "        vertical-align: top;\n",
       "    }\n",
       "\n",
       "    .dataframe thead th {\n",
       "        text-align: right;\n",
       "    }\n",
       "</style>\n",
       "<table border=\"1\" class=\"dataframe\">\n",
       "  <thead>\n",
       "    <tr style=\"text-align: right;\">\n",
       "      <th></th>\n",
       "      <th>ID</th>\n",
       "      <th>year</th>\n",
       "      <th>loan_limit</th>\n",
       "      <th>Gender</th>\n",
       "      <th>approv_in_adv</th>\n",
       "      <th>loan_type</th>\n",
       "      <th>loan_purpose</th>\n",
       "      <th>Credit_Worthiness</th>\n",
       "      <th>open_credit</th>\n",
       "      <th>business_or_commercial</th>\n",
       "      <th>...</th>\n",
       "      <th>credit_type</th>\n",
       "      <th>Credit_Score</th>\n",
       "      <th>co-applicant_credit_type</th>\n",
       "      <th>age</th>\n",
       "      <th>submission_of_application</th>\n",
       "      <th>LTV</th>\n",
       "      <th>Region</th>\n",
       "      <th>Security_Type</th>\n",
       "      <th>Status</th>\n",
       "      <th>dtir1</th>\n",
       "    </tr>\n",
       "  </thead>\n",
       "  <tbody>\n",
       "    <tr>\n",
       "      <th>0</th>\n",
       "      <td>24890</td>\n",
       "      <td>2019</td>\n",
       "      <td>cf</td>\n",
       "      <td>Sex Not Available</td>\n",
       "      <td>nopre</td>\n",
       "      <td>type1</td>\n",
       "      <td>p1</td>\n",
       "      <td>l1</td>\n",
       "      <td>nopc</td>\n",
       "      <td>nob/c</td>\n",
       "      <td>...</td>\n",
       "      <td>EXP</td>\n",
       "      <td>758</td>\n",
       "      <td>CIB</td>\n",
       "      <td>25-34</td>\n",
       "      <td>to_inst</td>\n",
       "      <td>98.728814</td>\n",
       "      <td>south</td>\n",
       "      <td>direct</td>\n",
       "      <td>1</td>\n",
       "      <td>45.0</td>\n",
       "    </tr>\n",
       "    <tr>\n",
       "      <th>1</th>\n",
       "      <td>24891</td>\n",
       "      <td>2019</td>\n",
       "      <td>cf</td>\n",
       "      <td>Male</td>\n",
       "      <td>nopre</td>\n",
       "      <td>type2</td>\n",
       "      <td>p1</td>\n",
       "      <td>l1</td>\n",
       "      <td>nopc</td>\n",
       "      <td>b/c</td>\n",
       "      <td>...</td>\n",
       "      <td>EQUI</td>\n",
       "      <td>552</td>\n",
       "      <td>EXP</td>\n",
       "      <td>55-64</td>\n",
       "      <td>to_inst</td>\n",
       "      <td>NaN</td>\n",
       "      <td>North</td>\n",
       "      <td>direct</td>\n",
       "      <td>1</td>\n",
       "      <td>NaN</td>\n",
       "    </tr>\n",
       "    <tr>\n",
       "      <th>2</th>\n",
       "      <td>24892</td>\n",
       "      <td>2019</td>\n",
       "      <td>cf</td>\n",
       "      <td>Male</td>\n",
       "      <td>pre</td>\n",
       "      <td>type1</td>\n",
       "      <td>p1</td>\n",
       "      <td>l1</td>\n",
       "      <td>nopc</td>\n",
       "      <td>nob/c</td>\n",
       "      <td>...</td>\n",
       "      <td>EXP</td>\n",
       "      <td>834</td>\n",
       "      <td>CIB</td>\n",
       "      <td>35-44</td>\n",
       "      <td>to_inst</td>\n",
       "      <td>80.019685</td>\n",
       "      <td>south</td>\n",
       "      <td>direct</td>\n",
       "      <td>0</td>\n",
       "      <td>46.0</td>\n",
       "    </tr>\n",
       "    <tr>\n",
       "      <th>3</th>\n",
       "      <td>24893</td>\n",
       "      <td>2019</td>\n",
       "      <td>cf</td>\n",
       "      <td>Male</td>\n",
       "      <td>nopre</td>\n",
       "      <td>type1</td>\n",
       "      <td>p4</td>\n",
       "      <td>l1</td>\n",
       "      <td>nopc</td>\n",
       "      <td>nob/c</td>\n",
       "      <td>...</td>\n",
       "      <td>EXP</td>\n",
       "      <td>587</td>\n",
       "      <td>CIB</td>\n",
       "      <td>45-54</td>\n",
       "      <td>not_inst</td>\n",
       "      <td>69.376900</td>\n",
       "      <td>North</td>\n",
       "      <td>direct</td>\n",
       "      <td>0</td>\n",
       "      <td>42.0</td>\n",
       "    </tr>\n",
       "    <tr>\n",
       "      <th>4</th>\n",
       "      <td>24894</td>\n",
       "      <td>2019</td>\n",
       "      <td>cf</td>\n",
       "      <td>Joint</td>\n",
       "      <td>pre</td>\n",
       "      <td>type1</td>\n",
       "      <td>p1</td>\n",
       "      <td>l1</td>\n",
       "      <td>nopc</td>\n",
       "      <td>nob/c</td>\n",
       "      <td>...</td>\n",
       "      <td>CRIF</td>\n",
       "      <td>602</td>\n",
       "      <td>EXP</td>\n",
       "      <td>25-34</td>\n",
       "      <td>not_inst</td>\n",
       "      <td>91.886544</td>\n",
       "      <td>North</td>\n",
       "      <td>direct</td>\n",
       "      <td>0</td>\n",
       "      <td>39.0</td>\n",
       "    </tr>\n",
       "    <tr>\n",
       "      <th>...</th>\n",
       "      <td>...</td>\n",
       "      <td>...</td>\n",
       "      <td>...</td>\n",
       "      <td>...</td>\n",
       "      <td>...</td>\n",
       "      <td>...</td>\n",
       "      <td>...</td>\n",
       "      <td>...</td>\n",
       "      <td>...</td>\n",
       "      <td>...</td>\n",
       "      <td>...</td>\n",
       "      <td>...</td>\n",
       "      <td>...</td>\n",
       "      <td>...</td>\n",
       "      <td>...</td>\n",
       "      <td>...</td>\n",
       "      <td>...</td>\n",
       "      <td>...</td>\n",
       "      <td>...</td>\n",
       "      <td>...</td>\n",
       "      <td>...</td>\n",
       "    </tr>\n",
       "    <tr>\n",
       "      <th>148665</th>\n",
       "      <td>173555</td>\n",
       "      <td>2019</td>\n",
       "      <td>cf</td>\n",
       "      <td>Sex Not Available</td>\n",
       "      <td>nopre</td>\n",
       "      <td>type1</td>\n",
       "      <td>p3</td>\n",
       "      <td>l1</td>\n",
       "      <td>nopc</td>\n",
       "      <td>nob/c</td>\n",
       "      <td>...</td>\n",
       "      <td>CIB</td>\n",
       "      <td>659</td>\n",
       "      <td>EXP</td>\n",
       "      <td>55-64</td>\n",
       "      <td>to_inst</td>\n",
       "      <td>71.792763</td>\n",
       "      <td>south</td>\n",
       "      <td>direct</td>\n",
       "      <td>0</td>\n",
       "      <td>48.0</td>\n",
       "    </tr>\n",
       "    <tr>\n",
       "      <th>148666</th>\n",
       "      <td>173556</td>\n",
       "      <td>2019</td>\n",
       "      <td>cf</td>\n",
       "      <td>Male</td>\n",
       "      <td>nopre</td>\n",
       "      <td>type1</td>\n",
       "      <td>p1</td>\n",
       "      <td>l1</td>\n",
       "      <td>nopc</td>\n",
       "      <td>nob/c</td>\n",
       "      <td>...</td>\n",
       "      <td>CIB</td>\n",
       "      <td>569</td>\n",
       "      <td>CIB</td>\n",
       "      <td>25-34</td>\n",
       "      <td>not_inst</td>\n",
       "      <td>74.428934</td>\n",
       "      <td>south</td>\n",
       "      <td>direct</td>\n",
       "      <td>0</td>\n",
       "      <td>15.0</td>\n",
       "    </tr>\n",
       "    <tr>\n",
       "      <th>148667</th>\n",
       "      <td>173557</td>\n",
       "      <td>2019</td>\n",
       "      <td>cf</td>\n",
       "      <td>Male</td>\n",
       "      <td>nopre</td>\n",
       "      <td>type1</td>\n",
       "      <td>p4</td>\n",
       "      <td>l1</td>\n",
       "      <td>nopc</td>\n",
       "      <td>nob/c</td>\n",
       "      <td>...</td>\n",
       "      <td>CIB</td>\n",
       "      <td>702</td>\n",
       "      <td>EXP</td>\n",
       "      <td>45-54</td>\n",
       "      <td>not_inst</td>\n",
       "      <td>61.332418</td>\n",
       "      <td>North</td>\n",
       "      <td>direct</td>\n",
       "      <td>0</td>\n",
       "      <td>49.0</td>\n",
       "    </tr>\n",
       "    <tr>\n",
       "      <th>148668</th>\n",
       "      <td>173558</td>\n",
       "      <td>2019</td>\n",
       "      <td>cf</td>\n",
       "      <td>Female</td>\n",
       "      <td>nopre</td>\n",
       "      <td>type1</td>\n",
       "      <td>p4</td>\n",
       "      <td>l1</td>\n",
       "      <td>nopc</td>\n",
       "      <td>nob/c</td>\n",
       "      <td>...</td>\n",
       "      <td>EXP</td>\n",
       "      <td>737</td>\n",
       "      <td>EXP</td>\n",
       "      <td>55-64</td>\n",
       "      <td>to_inst</td>\n",
       "      <td>70.683453</td>\n",
       "      <td>North</td>\n",
       "      <td>direct</td>\n",
       "      <td>0</td>\n",
       "      <td>29.0</td>\n",
       "    </tr>\n",
       "    <tr>\n",
       "      <th>148669</th>\n",
       "      <td>173559</td>\n",
       "      <td>2019</td>\n",
       "      <td>cf</td>\n",
       "      <td>Female</td>\n",
       "      <td>nopre</td>\n",
       "      <td>type1</td>\n",
       "      <td>p3</td>\n",
       "      <td>l1</td>\n",
       "      <td>nopc</td>\n",
       "      <td>nob/c</td>\n",
       "      <td>...</td>\n",
       "      <td>CIB</td>\n",
       "      <td>830</td>\n",
       "      <td>CIB</td>\n",
       "      <td>45-54</td>\n",
       "      <td>not_inst</td>\n",
       "      <td>72.849462</td>\n",
       "      <td>North</td>\n",
       "      <td>direct</td>\n",
       "      <td>0</td>\n",
       "      <td>44.0</td>\n",
       "    </tr>\n",
       "  </tbody>\n",
       "</table>\n",
       "<p>148670 rows × 34 columns</p>\n",
       "</div>"
      ],
      "text/plain": [
       "            ID  year loan_limit             Gender approv_in_adv loan_type  \\\n",
       "0        24890  2019         cf  Sex Not Available         nopre     type1   \n",
       "1        24891  2019         cf               Male         nopre     type2   \n",
       "2        24892  2019         cf               Male           pre     type1   \n",
       "3        24893  2019         cf               Male         nopre     type1   \n",
       "4        24894  2019         cf              Joint           pre     type1   \n",
       "...        ...   ...        ...                ...           ...       ...   \n",
       "148665  173555  2019         cf  Sex Not Available         nopre     type1   \n",
       "148666  173556  2019         cf               Male         nopre     type1   \n",
       "148667  173557  2019         cf               Male         nopre     type1   \n",
       "148668  173558  2019         cf             Female         nopre     type1   \n",
       "148669  173559  2019         cf             Female         nopre     type1   \n",
       "\n",
       "       loan_purpose Credit_Worthiness open_credit business_or_commercial  ...  \\\n",
       "0                p1                l1        nopc                  nob/c  ...   \n",
       "1                p1                l1        nopc                    b/c  ...   \n",
       "2                p1                l1        nopc                  nob/c  ...   \n",
       "3                p4                l1        nopc                  nob/c  ...   \n",
       "4                p1                l1        nopc                  nob/c  ...   \n",
       "...             ...               ...         ...                    ...  ...   \n",
       "148665           p3                l1        nopc                  nob/c  ...   \n",
       "148666           p1                l1        nopc                  nob/c  ...   \n",
       "148667           p4                l1        nopc                  nob/c  ...   \n",
       "148668           p4                l1        nopc                  nob/c  ...   \n",
       "148669           p3                l1        nopc                  nob/c  ...   \n",
       "\n",
       "        credit_type  Credit_Score  co-applicant_credit_type    age  \\\n",
       "0               EXP           758                       CIB  25-34   \n",
       "1              EQUI           552                       EXP  55-64   \n",
       "2               EXP           834                       CIB  35-44   \n",
       "3               EXP           587                       CIB  45-54   \n",
       "4              CRIF           602                       EXP  25-34   \n",
       "...             ...           ...                       ...    ...   \n",
       "148665          CIB           659                       EXP  55-64   \n",
       "148666          CIB           569                       CIB  25-34   \n",
       "148667          CIB           702                       EXP  45-54   \n",
       "148668          EXP           737                       EXP  55-64   \n",
       "148669          CIB           830                       CIB  45-54   \n",
       "\n",
       "        submission_of_application        LTV Region Security_Type  Status  \\\n",
       "0                         to_inst  98.728814  south        direct       1   \n",
       "1                         to_inst        NaN  North        direct       1   \n",
       "2                         to_inst  80.019685  south        direct       0   \n",
       "3                        not_inst  69.376900  North        direct       0   \n",
       "4                        not_inst  91.886544  North        direct       0   \n",
       "...                           ...        ...    ...           ...     ...   \n",
       "148665                    to_inst  71.792763  south        direct       0   \n",
       "148666                   not_inst  74.428934  south        direct       0   \n",
       "148667                   not_inst  61.332418  North        direct       0   \n",
       "148668                    to_inst  70.683453  North        direct       0   \n",
       "148669                   not_inst  72.849462  North        direct       0   \n",
       "\n",
       "       dtir1  \n",
       "0       45.0  \n",
       "1        NaN  \n",
       "2       46.0  \n",
       "3       42.0  \n",
       "4       39.0  \n",
       "...      ...  \n",
       "148665  48.0  \n",
       "148666  15.0  \n",
       "148667  49.0  \n",
       "148668  29.0  \n",
       "148669  44.0  \n",
       "\n",
       "[148670 rows x 34 columns]"
      ]
     },
     "execution_count": 3,
     "metadata": {},
     "output_type": "execute_result"
    }
   ],
   "source": [
    "data"
   ]
  },
  {
   "cell_type": "code",
   "execution_count": 4,
   "metadata": {},
   "outputs": [
    {
     "name": "stdout",
     "output_type": "stream",
     "text": [
      "<class 'pandas.core.frame.DataFrame'>\n",
      "RangeIndex: 148670 entries, 0 to 148669\n",
      "Data columns (total 34 columns):\n",
      " #   Column                     Non-Null Count   Dtype  \n",
      "---  ------                     --------------   -----  \n",
      " 0   ID                         148670 non-null  int64  \n",
      " 1   year                       148670 non-null  int64  \n",
      " 2   loan_limit                 145326 non-null  object \n",
      " 3   Gender                     148670 non-null  object \n",
      " 4   approv_in_adv              147762 non-null  object \n",
      " 5   loan_type                  148670 non-null  object \n",
      " 6   loan_purpose               148536 non-null  object \n",
      " 7   Credit_Worthiness          148670 non-null  object \n",
      " 8   open_credit                148670 non-null  object \n",
      " 9   business_or_commercial     148670 non-null  object \n",
      " 10  loan_amount                148670 non-null  int64  \n",
      " 11  rate_of_interest           112231 non-null  float64\n",
      " 12  Interest_rate_spread       112031 non-null  float64\n",
      " 13  Upfront_charges            109028 non-null  float64\n",
      " 14  term                       148629 non-null  float64\n",
      " 15  Neg_ammortization          148549 non-null  object \n",
      " 16  interest_only              148670 non-null  object \n",
      " 17  lump_sum_payment           148670 non-null  object \n",
      " 18  property_value             133572 non-null  float64\n",
      " 19  construction_type          148670 non-null  object \n",
      " 20  occupancy_type             148670 non-null  object \n",
      " 21  Secured_by                 148670 non-null  object \n",
      " 22  total_units                148670 non-null  object \n",
      " 23  income                     139520 non-null  float64\n",
      " 24  credit_type                148670 non-null  object \n",
      " 25  Credit_Score               148670 non-null  int64  \n",
      " 26  co-applicant_credit_type   148670 non-null  object \n",
      " 27  age                        148470 non-null  object \n",
      " 28  submission_of_application  148470 non-null  object \n",
      " 29  LTV                        133572 non-null  float64\n",
      " 30  Region                     148670 non-null  object \n",
      " 31  Security_Type              148670 non-null  object \n",
      " 32  Status                     148670 non-null  int64  \n",
      " 33  dtir1                      124549 non-null  float64\n",
      "dtypes: float64(8), int64(5), object(21)\n",
      "memory usage: 38.6+ MB\n"
     ]
    }
   ],
   "source": [
    "data.info()"
   ]
  },
  {
   "cell_type": "code",
   "execution_count": 5,
   "metadata": {},
   "outputs": [
    {
     "data": {
      "text/html": [
       "<div>\n",
       "<style scoped>\n",
       "    .dataframe tbody tr th:only-of-type {\n",
       "        vertical-align: middle;\n",
       "    }\n",
       "\n",
       "    .dataframe tbody tr th {\n",
       "        vertical-align: top;\n",
       "    }\n",
       "\n",
       "    .dataframe thead th {\n",
       "        text-align: right;\n",
       "    }\n",
       "</style>\n",
       "<table border=\"1\" class=\"dataframe\">\n",
       "  <thead>\n",
       "    <tr style=\"text-align: right;\">\n",
       "      <th></th>\n",
       "      <th>ID</th>\n",
       "      <th>year</th>\n",
       "      <th>loan_amount</th>\n",
       "      <th>rate_of_interest</th>\n",
       "      <th>Interest_rate_spread</th>\n",
       "      <th>Upfront_charges</th>\n",
       "      <th>term</th>\n",
       "      <th>property_value</th>\n",
       "      <th>income</th>\n",
       "      <th>Credit_Score</th>\n",
       "      <th>LTV</th>\n",
       "      <th>Status</th>\n",
       "      <th>dtir1</th>\n",
       "    </tr>\n",
       "  </thead>\n",
       "  <tbody>\n",
       "    <tr>\n",
       "      <th>count</th>\n",
       "      <td>148670.000000</td>\n",
       "      <td>148670.0</td>\n",
       "      <td>1.486700e+05</td>\n",
       "      <td>112231.000000</td>\n",
       "      <td>112031.000000</td>\n",
       "      <td>109028.000000</td>\n",
       "      <td>148629.000000</td>\n",
       "      <td>1.335720e+05</td>\n",
       "      <td>139520.000000</td>\n",
       "      <td>148670.000000</td>\n",
       "      <td>133572.000000</td>\n",
       "      <td>148670.000000</td>\n",
       "      <td>124549.000000</td>\n",
       "    </tr>\n",
       "    <tr>\n",
       "      <th>mean</th>\n",
       "      <td>99224.500000</td>\n",
       "      <td>2019.0</td>\n",
       "      <td>3.311177e+05</td>\n",
       "      <td>4.045476</td>\n",
       "      <td>0.441656</td>\n",
       "      <td>3224.996127</td>\n",
       "      <td>335.136582</td>\n",
       "      <td>4.978935e+05</td>\n",
       "      <td>6957.338876</td>\n",
       "      <td>699.789103</td>\n",
       "      <td>72.746457</td>\n",
       "      <td>0.246445</td>\n",
       "      <td>37.732932</td>\n",
       "    </tr>\n",
       "    <tr>\n",
       "      <th>std</th>\n",
       "      <td>42917.476598</td>\n",
       "      <td>0.0</td>\n",
       "      <td>1.839093e+05</td>\n",
       "      <td>0.561391</td>\n",
       "      <td>0.513043</td>\n",
       "      <td>3251.121510</td>\n",
       "      <td>58.409084</td>\n",
       "      <td>3.599353e+05</td>\n",
       "      <td>6496.586382</td>\n",
       "      <td>115.875857</td>\n",
       "      <td>39.967603</td>\n",
       "      <td>0.430942</td>\n",
       "      <td>10.545435</td>\n",
       "    </tr>\n",
       "    <tr>\n",
       "      <th>min</th>\n",
       "      <td>24890.000000</td>\n",
       "      <td>2019.0</td>\n",
       "      <td>1.650000e+04</td>\n",
       "      <td>0.000000</td>\n",
       "      <td>-3.638000</td>\n",
       "      <td>0.000000</td>\n",
       "      <td>96.000000</td>\n",
       "      <td>8.000000e+03</td>\n",
       "      <td>0.000000</td>\n",
       "      <td>500.000000</td>\n",
       "      <td>0.967478</td>\n",
       "      <td>0.000000</td>\n",
       "      <td>5.000000</td>\n",
       "    </tr>\n",
       "    <tr>\n",
       "      <th>25%</th>\n",
       "      <td>62057.250000</td>\n",
       "      <td>2019.0</td>\n",
       "      <td>1.965000e+05</td>\n",
       "      <td>3.625000</td>\n",
       "      <td>0.076000</td>\n",
       "      <td>581.490000</td>\n",
       "      <td>360.000000</td>\n",
       "      <td>2.680000e+05</td>\n",
       "      <td>3720.000000</td>\n",
       "      <td>599.000000</td>\n",
       "      <td>60.474860</td>\n",
       "      <td>0.000000</td>\n",
       "      <td>31.000000</td>\n",
       "    </tr>\n",
       "    <tr>\n",
       "      <th>50%</th>\n",
       "      <td>99224.500000</td>\n",
       "      <td>2019.0</td>\n",
       "      <td>2.965000e+05</td>\n",
       "      <td>3.990000</td>\n",
       "      <td>0.390400</td>\n",
       "      <td>2596.450000</td>\n",
       "      <td>360.000000</td>\n",
       "      <td>4.180000e+05</td>\n",
       "      <td>5760.000000</td>\n",
       "      <td>699.000000</td>\n",
       "      <td>75.135870</td>\n",
       "      <td>0.000000</td>\n",
       "      <td>39.000000</td>\n",
       "    </tr>\n",
       "    <tr>\n",
       "      <th>75%</th>\n",
       "      <td>136391.750000</td>\n",
       "      <td>2019.0</td>\n",
       "      <td>4.365000e+05</td>\n",
       "      <td>4.375000</td>\n",
       "      <td>0.775400</td>\n",
       "      <td>4812.500000</td>\n",
       "      <td>360.000000</td>\n",
       "      <td>6.280000e+05</td>\n",
       "      <td>8520.000000</td>\n",
       "      <td>800.000000</td>\n",
       "      <td>86.184211</td>\n",
       "      <td>0.000000</td>\n",
       "      <td>45.000000</td>\n",
       "    </tr>\n",
       "    <tr>\n",
       "      <th>max</th>\n",
       "      <td>173559.000000</td>\n",
       "      <td>2019.0</td>\n",
       "      <td>3.576500e+06</td>\n",
       "      <td>8.000000</td>\n",
       "      <td>3.357000</td>\n",
       "      <td>60000.000000</td>\n",
       "      <td>360.000000</td>\n",
       "      <td>1.650800e+07</td>\n",
       "      <td>578580.000000</td>\n",
       "      <td>900.000000</td>\n",
       "      <td>7831.250000</td>\n",
       "      <td>1.000000</td>\n",
       "      <td>61.000000</td>\n",
       "    </tr>\n",
       "  </tbody>\n",
       "</table>\n",
       "</div>"
      ],
      "text/plain": [
       "                  ID      year   loan_amount  rate_of_interest  \\\n",
       "count  148670.000000  148670.0  1.486700e+05     112231.000000   \n",
       "mean    99224.500000    2019.0  3.311177e+05          4.045476   \n",
       "std     42917.476598       0.0  1.839093e+05          0.561391   \n",
       "min     24890.000000    2019.0  1.650000e+04          0.000000   \n",
       "25%     62057.250000    2019.0  1.965000e+05          3.625000   \n",
       "50%     99224.500000    2019.0  2.965000e+05          3.990000   \n",
       "75%    136391.750000    2019.0  4.365000e+05          4.375000   \n",
       "max    173559.000000    2019.0  3.576500e+06          8.000000   \n",
       "\n",
       "       Interest_rate_spread  Upfront_charges           term  property_value  \\\n",
       "count         112031.000000    109028.000000  148629.000000    1.335720e+05   \n",
       "mean               0.441656      3224.996127     335.136582    4.978935e+05   \n",
       "std                0.513043      3251.121510      58.409084    3.599353e+05   \n",
       "min               -3.638000         0.000000      96.000000    8.000000e+03   \n",
       "25%                0.076000       581.490000     360.000000    2.680000e+05   \n",
       "50%                0.390400      2596.450000     360.000000    4.180000e+05   \n",
       "75%                0.775400      4812.500000     360.000000    6.280000e+05   \n",
       "max                3.357000     60000.000000     360.000000    1.650800e+07   \n",
       "\n",
       "              income   Credit_Score            LTV         Status  \\\n",
       "count  139520.000000  148670.000000  133572.000000  148670.000000   \n",
       "mean     6957.338876     699.789103      72.746457       0.246445   \n",
       "std      6496.586382     115.875857      39.967603       0.430942   \n",
       "min         0.000000     500.000000       0.967478       0.000000   \n",
       "25%      3720.000000     599.000000      60.474860       0.000000   \n",
       "50%      5760.000000     699.000000      75.135870       0.000000   \n",
       "75%      8520.000000     800.000000      86.184211       0.000000   \n",
       "max    578580.000000     900.000000    7831.250000       1.000000   \n",
       "\n",
       "               dtir1  \n",
       "count  124549.000000  \n",
       "mean       37.732932  \n",
       "std        10.545435  \n",
       "min         5.000000  \n",
       "25%        31.000000  \n",
       "50%        39.000000  \n",
       "75%        45.000000  \n",
       "max        61.000000  "
      ]
     },
     "execution_count": 5,
     "metadata": {},
     "output_type": "execute_result"
    }
   ],
   "source": [
    "data.describe()"
   ]
  },
  {
   "cell_type": "code",
   "execution_count": 6,
   "metadata": {},
   "outputs": [],
   "source": [
    "data.drop([\"ID\",\"year\"],axis=1,inplace=True)"
   ]
  },
  {
   "cell_type": "code",
   "execution_count": 7,
   "metadata": {},
   "outputs": [],
   "source": [
    "x = data.drop(\"Status\",axis=1)\n",
    "y = data[\"Status\"]"
   ]
  },
  {
   "cell_type": "code",
   "execution_count": 8,
   "metadata": {},
   "outputs": [
    {
     "data": {
      "text/plain": [
       "loan_limit                    3344\n",
       "Gender                           0\n",
       "approv_in_adv                  908\n",
       "loan_type                        0\n",
       "loan_purpose                   134\n",
       "Credit_Worthiness                0\n",
       "open_credit                      0\n",
       "business_or_commercial           0\n",
       "loan_amount                      0\n",
       "rate_of_interest             36439\n",
       "Interest_rate_spread         36639\n",
       "Upfront_charges              39642\n",
       "term                            41\n",
       "Neg_ammortization              121\n",
       "interest_only                    0\n",
       "lump_sum_payment                 0\n",
       "property_value               15098\n",
       "construction_type                0\n",
       "occupancy_type                   0\n",
       "Secured_by                       0\n",
       "total_units                      0\n",
       "income                        9150\n",
       "credit_type                      0\n",
       "Credit_Score                     0\n",
       "co-applicant_credit_type         0\n",
       "age                            200\n",
       "submission_of_application      200\n",
       "LTV                          15098\n",
       "Region                           0\n",
       "Security_Type                    0\n",
       "dtir1                        24121\n",
       "dtype: int64"
      ]
     },
     "execution_count": 8,
     "metadata": {},
     "output_type": "execute_result"
    }
   ],
   "source": [
    "x.isnull().sum()"
   ]
  },
  {
   "cell_type": "code",
   "execution_count": 9,
   "metadata": {},
   "outputs": [
    {
     "data": {
      "text/plain": [
       "<AxesSubplot: >"
      ]
     },
     "execution_count": 9,
     "metadata": {},
     "output_type": "execute_result"
    },
    {
     "data": {
      "image/png": "[encoded data removed]",
      "text/plain": [
       "<Figure size 2500x1000 with 2 Axes>"
      ]
     },
     "metadata": {},
     "output_type": "display_data"
    }
   ],
   "source": [
    "msno.matrix(x)"
   ]
  },
  {
   "cell_type": "code",
   "execution_count": 10,
   "metadata": {},
   "outputs": [],
   "source": [
    "x.drop([\"rate_of_interest\",\"Upfront_charges\",\"Interest_rate_spread\",\n",
    "        \"property_value\",\"LTV\",\"dtir1\",\"construction_type\",\n",
    "        \"construction_type\",\"Secured_by\",\"Security_Type\",\"term\"],axis=1,inplace=True)"
   ]
  },
  {
   "cell_type": "code",
   "execution_count": 11,
   "metadata": {},
   "outputs": [],
   "source": [
    "categoric = x.select_dtypes(include=[\"object\",\"category\"]).columns\n",
    "numerics = x.select_dtypes(include=[\"float64\",\"int64\"]).columns"
   ]
  },
  {
   "cell_type": "code",
   "execution_count": 12,
   "metadata": {},
   "outputs": [],
   "source": [
    "# Data Preprocessing for Categoric columns"
   ]
  },
  {
   "cell_type": "code",
   "execution_count": 13,
   "metadata": {},
   "outputs": [],
   "source": [
    "x.Gender.unique()\n",
    "x.Gender = x.Gender.replace(\"Sex Not Available\",np.nan)\n",
    "x.Gender = x.Gender.replace(\"Joint\",np.nan)"
   ]
  },
  {
   "cell_type": "code",
   "execution_count": 14,
   "metadata": {},
   "outputs": [
    {
     "data": {
      "text/plain": [
       "79058"
      ]
     },
     "execution_count": 14,
     "metadata": {},
     "output_type": "execute_result"
    }
   ],
   "source": [
    "x.Gender.isna().sum()"
   ]
  },
  {
   "cell_type": "code",
   "execution_count": 15,
   "metadata": {},
   "outputs": [],
   "source": [
    "x.drop(\"Gender\",axis=1,inplace=True)\n",
    "categoric = categoric.drop(\"Gender\")"
   ]
  },
  {
   "cell_type": "code",
   "execution_count": 16,
   "metadata": {},
   "outputs": [
    {
     "data": {
      "text/plain": [
       "loan_limit                   3344\n",
       "approv_in_adv                 908\n",
       "loan_type                       0\n",
       "loan_purpose                  134\n",
       "Credit_Worthiness               0\n",
       "open_credit                     0\n",
       "business_or_commercial          0\n",
       "loan_amount                     0\n",
       "Neg_ammortization             121\n",
       "interest_only                   0\n",
       "lump_sum_payment                0\n",
       "occupancy_type                  0\n",
       "total_units                     0\n",
       "income                       9150\n",
       "credit_type                     0\n",
       "Credit_Score                    0\n",
       "co-applicant_credit_type        0\n",
       "age                           200\n",
       "submission_of_application     200\n",
       "Region                          0\n",
       "dtype: int64"
      ]
     },
     "execution_count": 16,
     "metadata": {},
     "output_type": "execute_result"
    }
   ],
   "source": [
    "x.isna().sum()"
   ]
  },
  {
   "cell_type": "code",
   "execution_count": 17,
   "metadata": {},
   "outputs": [],
   "source": [
    "def convert_sqft_to_num(x):\n",
    "    tokens = x.split('-')\n",
    "    if len(tokens) == 2:\n",
    "        return (float(tokens[0])+float(tokens[1]))/2\n",
    "    try:\n",
    "        return float(x)\n",
    "    except:\n",
    "        return None   "
   ]
  },
  {
   "cell_type": "code",
   "execution_count": 18,
   "metadata": {},
   "outputs": [],
   "source": [
    "from sklearn.impute import SimpleImputer\n",
    "frequent = SimpleImputer(strategy=\"most_frequent\")"
   ]
  },
  {
   "cell_type": "code",
   "execution_count": 19,
   "metadata": {},
   "outputs": [],
   "source": [
    "x[categoric] = frequent.fit_transform(x[categoric])"
   ]
  },
  {
   "cell_type": "code",
   "execution_count": 20,
   "metadata": {},
   "outputs": [],
   "source": [
    "from sklearn.preprocessing import OrdinalEncoder\n",
    "import pandas as pd\n",
    "\n",
    "label_encode = [column for column in categoric if x[column].unique().size == 2]\n",
    "ord = OrdinalEncoder()\n",
    "for column in label_encode:\n",
    "    x[column] = ord.fit_transform(x[[column]])\n"
   ]
  },
  {
   "cell_type": "code",
   "execution_count": 21,
   "metadata": {},
   "outputs": [
    {
     "name": "stderr",
     "output_type": "stream",
     "text": [
      "c:\\Users\\LOKMAN\\AppData\\Local\\Programs\\Python\\Python310\\lib\\site-packages\\sklearn\\preprocessing\\_encoders.py:868: FutureWarning: `sparse` was renamed to `sparse_output` in version 1.2 and will be removed in 1.4. `sparse_output` is ignored unless you leave `sparse` to its default value.\n",
      "  warnings.warn(\n"
     ]
    }
   ],
   "source": [
    "from sklearn.preprocessing import OneHotEncoder\n",
    "ohe_encode = [column for column in categoric if x[column].nunique() > 2]\n",
    "ohe = OneHotEncoder(sparse=False, drop='first')  \n",
    "encoded_data = ohe.fit_transform(x[ohe_encode])\n",
    "encoded_df = pd.DataFrame(encoded_data, columns=ohe.get_feature_names_out(ohe_encode))\n",
    "x = pd.concat([x.drop(columns=ohe_encode), encoded_df], axis=1)"
   ]
  },
  {
   "cell_type": "code",
   "execution_count": 22,
   "metadata": {},
   "outputs": [],
   "source": [
    "# Data Preprocessing for numerical data"
   ]
  },
  {
   "cell_type": "code",
   "execution_count": 23,
   "metadata": {},
   "outputs": [
    {
     "data": {
      "text/plain": [
       "loan_amount        0\n",
       "income          9150\n",
       "Credit_Score       0\n",
       "dtype: int64"
      ]
     },
     "execution_count": 23,
     "metadata": {},
     "output_type": "execute_result"
    }
   ],
   "source": [
    "x[numerics].isna().sum()"
   ]
  },
  {
   "cell_type": "code",
   "execution_count": 24,
   "metadata": {},
   "outputs": [],
   "source": [
    "imputer = SimpleImputer(strategy=\"mean\")\n",
    "x[numerics] = imputer.fit_transform(x[numerics])"
   ]
  },
  {
   "cell_type": "code",
   "execution_count": 25,
   "metadata": {},
   "outputs": [
    {
     "data": {
      "image/png": "[encoded data removed]",
      "text/plain": [
       "<Figure size 640x480 with 1 Axes>"
      ]
     },
     "metadata": {},
     "output_type": "display_data"
    },
    {
     "data": {
      "image/png": "[encoded data removed]",
      "text/plain": [
       "<Figure size 640x480 with 1 Axes>"
      ]
     },
     "metadata": {},
     "output_type": "display_data"
    },
    {
     "data": {
      "image/png": "[encoded data removed]",
      "text/plain": [
       "<Figure size 640x480 with 1 Axes>"
      ]
     },
     "metadata": {},
     "output_type": "display_data"
    }
   ],
   "source": [
    "for column in numerics:\n",
    "    sns.boxplot(x=x[column])\n",
    "    plt.show()"
   ]
  },
  {
   "cell_type": "code",
   "execution_count": 26,
   "metadata": {},
   "outputs": [],
   "source": [
    "aykiri_cols = numerics.drop(\"Credit_Score\")"
   ]
  },
  {
   "cell_type": "code",
   "execution_count": 27,
   "metadata": {},
   "outputs": [],
   "source": [
    "def outlier(df,var):\n",
    "    q1 = np.quantile(df[var], 0.25)\n",
    "    q3 = np.quantile(df[var], 0.75)\n",
    "    diff = q3 - q1\n",
    "    lower_t = q1 - (1.5 * diff)\n",
    "    upper_t = q3 + (1.5 * diff)\n",
    "    df[var] = np.clip(df[var], lower_t, upper_t)"
   ]
  },
  {
   "cell_type": "code",
   "execution_count": 28,
   "metadata": {},
   "outputs": [],
   "source": [
    "for col in aykiri_cols:\n",
    "    outlier(x,col)"
   ]
  },
  {
   "cell_type": "code",
   "execution_count": 29,
   "metadata": {},
   "outputs": [
    {
     "data": {
      "image/png": "[encoded data removed]",
      "text/plain": [
       "<Figure size 640x480 with 1 Axes>"
      ]
     },
     "metadata": {},
     "output_type": "display_data"
    },
    {
     "data": {
      "image/png": "[encoded data removed]",
      "text/plain": [
       "<Figure size 640x480 with 1 Axes>"
      ]
     },
     "metadata": {},
     "output_type": "display_data"
    },
    {
     "data": {
      "image/png": "[encoded data removed]",
      "text/plain": [
       "<Figure size 640x480 with 1 Axes>"
      ]
     },
     "metadata": {},
     "output_type": "display_data"
    }
   ],
   "source": [
    "for column in numerics:\n",
    "    sns.boxplot(x=x[column])\n",
    "    plt.show()"
   ]
  },
  {
   "cell_type": "code",
   "execution_count": 30,
   "metadata": {},
   "outputs": [],
   "source": [
    "from sklearn.preprocessing import MinMaxScaler\n",
    "scalar = MinMaxScaler()\n",
    "x[numerics] = scalar.fit_transform(x[numerics])"
   ]
  },
  {
   "cell_type": "code",
   "execution_count": 31,
   "metadata": {},
   "outputs": [
    {
     "data": {
      "image/png": "[encoded data removed]",
      "text/plain": [
       "<Figure size 640x480 with 1 Axes>"
      ]
     },
     "metadata": {},
     "output_type": "display_data"
    },
    {
     "data": {
      "image/png": "[encoded data removed]",
      "text/plain": [
       "<Figure size 640x480 with 1 Axes>"
      ]
     },
     "metadata": {},
     "output_type": "display_data"
    },
    {
     "data": {
      "image/png": "[encoded data removed]",
      "text/plain": [
       "<Figure size 640x480 with 1 Axes>"
      ]
     },
     "metadata": {},
     "output_type": "display_data"
    }
   ],
   "source": [
    "for column in numerics:\n",
    "    sns.boxplot(x=x[column])\n",
    "    plt.show()"
   ]
  },
  {
   "cell_type": "code",
   "execution_count": 32,
   "metadata": {},
   "outputs": [],
   "source": [
    "# Machine Learning"
   ]
  },
  {
   "cell_type": "code",
   "execution_count": 33,
   "metadata": {},
   "outputs": [],
   "source": [
    "from sklearn.model_selection import train_test_split\n",
    "from sklearn.metrics import accuracy_score,confusion_matrix\n",
    "from pycaret.classification import *"
   ]
  },
  {
   "cell_type": "code",
   "execution_count": 34,
   "metadata": {},
   "outputs": [],
   "source": [
    "df = pd.concat([x,y],axis=1)"
   ]
  },
  {
   "cell_type": "code",
   "execution_count": 35,
   "metadata": {},
   "outputs": [
    {
     "data": {
      "text/html": [
       "<style type=\"text/css\">\n",
       "#T_67124_row8_col1 {\n",
       "  background-color: lightgreen;\n",
       "}\n",
       "</style>\n",
       "<table id=\"T_67124\">\n",
       "  <thead>\n",
       "    <tr>\n",
       "      <th class=\"blank level0\" >&nbsp;</th>\n",
       "      <th id=\"T_67124_level0_col0\" class=\"col_heading level0 col0\" >Description</th>\n",
       "      <th id=\"T_67124_level0_col1\" class=\"col_heading level0 col1\" >Value</th>\n",
       "    </tr>\n",
       "  </thead>\n",
       "  <tbody>\n",
       "    <tr>\n",
       "      <th id=\"T_67124_level0_row0\" class=\"row_heading level0 row0\" >0</th>\n",
       "      <td id=\"T_67124_row0_col0\" class=\"data row0 col0\" >Session id</td>\n",
       "      <td id=\"T_67124_row0_col1\" class=\"data row0 col1\" >351</td>\n",
       "    </tr>\n",
       "    <tr>\n",
       "      <th id=\"T_67124_level0_row1\" class=\"row_heading level0 row1\" >1</th>\n",
       "      <td id=\"T_67124_row1_col0\" class=\"data row1 col0\" >Target</td>\n",
       "      <td id=\"T_67124_row1_col1\" class=\"data row1 col1\" >Status</td>\n",
       "    </tr>\n",
       "    <tr>\n",
       "      <th id=\"T_67124_level0_row2\" class=\"row_heading level0 row2\" >2</th>\n",
       "      <td id=\"T_67124_row2_col0\" class=\"data row2 col0\" >Target type</td>\n",
       "      <td id=\"T_67124_row2_col1\" class=\"data row2 col1\" >Binary</td>\n",
       "    </tr>\n",
       "    <tr>\n",
       "      <th id=\"T_67124_level0_row3\" class=\"row_heading level0 row3\" >3</th>\n",
       "      <td id=\"T_67124_row3_col0\" class=\"data row3 col0\" >Original data shape</td>\n",
       "      <td id=\"T_67124_row3_col1\" class=\"data row3 col1\" >(148670, 36)</td>\n",
       "    </tr>\n",
       "    <tr>\n",
       "      <th id=\"T_67124_level0_row4\" class=\"row_heading level0 row4\" >4</th>\n",
       "      <td id=\"T_67124_row4_col0\" class=\"data row4 col0\" >Transformed data shape</td>\n",
       "      <td id=\"T_67124_row4_col1\" class=\"data row4 col1\" >(148670, 36)</td>\n",
       "    </tr>\n",
       "    <tr>\n",
       "      <th id=\"T_67124_level0_row5\" class=\"row_heading level0 row5\" >5</th>\n",
       "      <td id=\"T_67124_row5_col0\" class=\"data row5 col0\" >Transformed train set shape</td>\n",
       "      <td id=\"T_67124_row5_col1\" class=\"data row5 col1\" >(104069, 36)</td>\n",
       "    </tr>\n",
       "    <tr>\n",
       "      <th id=\"T_67124_level0_row6\" class=\"row_heading level0 row6\" >6</th>\n",
       "      <td id=\"T_67124_row6_col0\" class=\"data row6 col0\" >Transformed test set shape</td>\n",
       "      <td id=\"T_67124_row6_col1\" class=\"data row6 col1\" >(44601, 36)</td>\n",
       "    </tr>\n",
       "    <tr>\n",
       "      <th id=\"T_67124_level0_row7\" class=\"row_heading level0 row7\" >7</th>\n",
       "      <td id=\"T_67124_row7_col0\" class=\"data row7 col0\" >Numeric features</td>\n",
       "      <td id=\"T_67124_row7_col1\" class=\"data row7 col1\" >35</td>\n",
       "    </tr>\n",
       "    <tr>\n",
       "      <th id=\"T_67124_level0_row8\" class=\"row_heading level0 row8\" >8</th>\n",
       "      <td id=\"T_67124_row8_col0\" class=\"data row8 col0\" >Preprocess</td>\n",
       "      <td id=\"T_67124_row8_col1\" class=\"data row8 col1\" >True</td>\n",
       "    </tr>\n",
       "    <tr>\n",
       "      <th id=\"T_67124_level0_row9\" class=\"row_heading level0 row9\" >9</th>\n",
       "      <td id=\"T_67124_row9_col0\" class=\"data row9 col0\" >Imputation type</td>\n",
       "      <td id=\"T_67124_row9_col1\" class=\"data row9 col1\" >simple</td>\n",
       "    </tr>\n",
       "    <tr>\n",
       "      <th id=\"T_67124_level0_row10\" class=\"row_heading level0 row10\" >10</th>\n",
       "      <td id=\"T_67124_row10_col0\" class=\"data row10 col0\" >Numeric imputation</td>\n",
       "      <td id=\"T_67124_row10_col1\" class=\"data row10 col1\" >mean</td>\n",
       "    </tr>\n",
       "    <tr>\n",
       "      <th id=\"T_67124_level0_row11\" class=\"row_heading level0 row11\" >11</th>\n",
       "      <td id=\"T_67124_row11_col0\" class=\"data row11 col0\" >Categorical imputation</td>\n",
       "      <td id=\"T_67124_row11_col1\" class=\"data row11 col1\" >mode</td>\n",
       "    </tr>\n",
       "    <tr>\n",
       "      <th id=\"T_67124_level0_row12\" class=\"row_heading level0 row12\" >12</th>\n",
       "      <td id=\"T_67124_row12_col0\" class=\"data row12 col0\" >Fold Generator</td>\n",
       "      <td id=\"T_67124_row12_col1\" class=\"data row12 col1\" >StratifiedKFold</td>\n",
       "    </tr>\n",
       "    <tr>\n",
       "      <th id=\"T_67124_level0_row13\" class=\"row_heading level0 row13\" >13</th>\n",
       "      <td id=\"T_67124_row13_col0\" class=\"data row13 col0\" >Fold Number</td>\n",
       "      <td id=\"T_67124_row13_col1\" class=\"data row13 col1\" >10</td>\n",
       "    </tr>\n",
       "    <tr>\n",
       "      <th id=\"T_67124_level0_row14\" class=\"row_heading level0 row14\" >14</th>\n",
       "      <td id=\"T_67124_row14_col0\" class=\"data row14 col0\" >CPU Jobs</td>\n",
       "      <td id=\"T_67124_row14_col1\" class=\"data row14 col1\" >-1</td>\n",
       "    </tr>\n",
       "    <tr>\n",
       "      <th id=\"T_67124_level0_row15\" class=\"row_heading level0 row15\" >15</th>\n",
       "      <td id=\"T_67124_row15_col0\" class=\"data row15 col0\" >Use GPU</td>\n",
       "      <td id=\"T_67124_row15_col1\" class=\"data row15 col1\" >False</td>\n",
       "    </tr>\n",
       "    <tr>\n",
       "      <th id=\"T_67124_level0_row16\" class=\"row_heading level0 row16\" >16</th>\n",
       "      <td id=\"T_67124_row16_col0\" class=\"data row16 col0\" >Log Experiment</td>\n",
       "      <td id=\"T_67124_row16_col1\" class=\"data row16 col1\" >False</td>\n",
       "    </tr>\n",
       "    <tr>\n",
       "      <th id=\"T_67124_level0_row17\" class=\"row_heading level0 row17\" >17</th>\n",
       "      <td id=\"T_67124_row17_col0\" class=\"data row17 col0\" >Experiment Name</td>\n",
       "      <td id=\"T_67124_row17_col1\" class=\"data row17 col1\" >clf-default-name</td>\n",
       "    </tr>\n",
       "    <tr>\n",
       "      <th id=\"T_67124_level0_row18\" class=\"row_heading level0 row18\" >18</th>\n",
       "      <td id=\"T_67124_row18_col0\" class=\"data row18 col0\" >USI</td>\n",
       "      <td id=\"T_67124_row18_col1\" class=\"data row18 col1\" >a64e</td>\n",
       "    </tr>\n",
       "  </tbody>\n",
       "</table>\n"
      ],
      "text/plain": [
       "<pandas.io.formats.style.Styler at 0x162a3873be0>"
      ]
     },
     "metadata": {},
     "output_type": "display_data"
    },
    {
     "data": {
      "text/plain": [
       "<pycaret.classification.oop.ClassificationExperiment at 0x1629ed2f760>"
      ]
     },
     "execution_count": 35,
     "metadata": {},
     "output_type": "execute_result"
    }
   ],
   "source": [
    "setup(df,target=\"Status\")"
   ]
  },
  {
   "cell_type": "code",
   "execution_count": 36,
   "metadata": {},
   "outputs": [
    {
     "data": {
      "text/html": [],
      "text/plain": [
       "<IPython.core.display.HTML object>"
      ]
     },
     "metadata": {},
     "output_type": "display_data"
    },
    {
     "data": {
      "text/html": [
       "<style type=\"text/css\">\n",
       "#T_329a9 th {\n",
       "  text-align: left;\n",
       "}\n",
       "#T_329a9_row0_col0, #T_329a9_row0_col3, #T_329a9_row0_col4, #T_329a9_row1_col0, #T_329a9_row1_col1, #T_329a9_row1_col2, #T_329a9_row1_col3, #T_329a9_row1_col4, #T_329a9_row1_col5, #T_329a9_row1_col6, #T_329a9_row1_col7, #T_329a9_row2_col0, #T_329a9_row2_col1, #T_329a9_row2_col2, #T_329a9_row2_col3, #T_329a9_row2_col4, #T_329a9_row2_col5, #T_329a9_row2_col6, #T_329a9_row2_col7, #T_329a9_row3_col0, #T_329a9_row3_col1, #T_329a9_row3_col2, #T_329a9_row3_col3, #T_329a9_row3_col4, #T_329a9_row3_col5, #T_329a9_row3_col6, #T_329a9_row3_col7, #T_329a9_row4_col0, #T_329a9_row4_col1, #T_329a9_row4_col2, #T_329a9_row4_col3, #T_329a9_row4_col4, #T_329a9_row4_col5, #T_329a9_row4_col6, #T_329a9_row4_col7, #T_329a9_row5_col0, #T_329a9_row5_col1, #T_329a9_row5_col2, #T_329a9_row5_col3, #T_329a9_row5_col4, #T_329a9_row5_col5, #T_329a9_row5_col6, #T_329a9_row5_col7, #T_329a9_row6_col0, #T_329a9_row6_col1, #T_329a9_row6_col2, #T_329a9_row6_col3, #T_329a9_row6_col4, #T_329a9_row6_col5, #T_329a9_row6_col6, #T_329a9_row6_col7, #T_329a9_row7_col0, #T_329a9_row7_col1, #T_329a9_row7_col2, #T_329a9_row7_col3, #T_329a9_row7_col5, #T_329a9_row7_col6, #T_329a9_row7_col7, #T_329a9_row8_col0, #T_329a9_row8_col1, #T_329a9_row8_col2, #T_329a9_row8_col3, #T_329a9_row8_col4, #T_329a9_row8_col5, #T_329a9_row8_col6, #T_329a9_row8_col7, #T_329a9_row9_col0, #T_329a9_row9_col1, #T_329a9_row9_col2, #T_329a9_row9_col3, #T_329a9_row9_col4, #T_329a9_row9_col5, #T_329a9_row9_col6, #T_329a9_row9_col7, #T_329a9_row10_col0, #T_329a9_row10_col1, #T_329a9_row10_col2, #T_329a9_row10_col3, #T_329a9_row10_col4, #T_329a9_row10_col5, #T_329a9_row10_col6, #T_329a9_row10_col7, #T_329a9_row11_col0, #T_329a9_row11_col1, #T_329a9_row11_col2, #T_329a9_row11_col3, #T_329a9_row11_col4, #T_329a9_row11_col5, #T_329a9_row11_col6, #T_329a9_row11_col7, #T_329a9_row12_col0, #T_329a9_row12_col1, #T_329a9_row12_col2, #T_329a9_row12_col4, #T_329a9_row12_col5, #T_329a9_row12_col6, #T_329a9_row12_col7, #T_329a9_row13_col0, #T_329a9_row13_col1, #T_329a9_row13_col2, #T_329a9_row13_col3, #T_329a9_row13_col4, #T_329a9_row13_col5, #T_329a9_row13_col6, #T_329a9_row13_col7 {\n",
       "  text-align: left;\n",
       "}\n",
       "#T_329a9_row0_col1, #T_329a9_row0_col2, #T_329a9_row0_col5, #T_329a9_row0_col6, #T_329a9_row0_col7, #T_329a9_row7_col4, #T_329a9_row12_col3 {\n",
       "  text-align: left;\n",
       "  background-color: yellow;\n",
       "}\n",
       "#T_329a9_row0_col8, #T_329a9_row1_col8, #T_329a9_row2_col8, #T_329a9_row3_col8, #T_329a9_row4_col8, #T_329a9_row5_col8, #T_329a9_row6_col8, #T_329a9_row8_col8, #T_329a9_row9_col8, #T_329a9_row10_col8, #T_329a9_row11_col8, #T_329a9_row12_col8, #T_329a9_row13_col8 {\n",
       "  text-align: left;\n",
       "  background-color: lightgrey;\n",
       "}\n",
       "#T_329a9_row7_col8 {\n",
       "  text-align: left;\n",
       "  background-color: yellow;\n",
       "  background-color: lightgrey;\n",
       "}\n",
       "</style>\n",
       "<table id=\"T_329a9\">\n",
       "  <thead>\n",
       "    <tr>\n",
       "      <th class=\"blank level0\" >&nbsp;</th>\n",
       "      <th id=\"T_329a9_level0_col0\" class=\"col_heading level0 col0\" >Model</th>\n",
       "      <th id=\"T_329a9_level0_col1\" class=\"col_heading level0 col1\" >Accuracy</th>\n",
       "      <th id=\"T_329a9_level0_col2\" class=\"col_heading level0 col2\" >AUC</th>\n",
       "      <th id=\"T_329a9_level0_col3\" class=\"col_heading level0 col3\" >Recall</th>\n",
       "      <th id=\"T_329a9_level0_col4\" class=\"col_heading level0 col4\" >Prec.</th>\n",
       "      <th id=\"T_329a9_level0_col5\" class=\"col_heading level0 col5\" >F1</th>\n",
       "      <th id=\"T_329a9_level0_col6\" class=\"col_heading level0 col6\" >Kappa</th>\n",
       "      <th id=\"T_329a9_level0_col7\" class=\"col_heading level0 col7\" >MCC</th>\n",
       "      <th id=\"T_329a9_level0_col8\" class=\"col_heading level0 col8\" >TT (Sec)</th>\n",
       "    </tr>\n",
       "  </thead>\n",
       "  <tbody>\n",
       "    <tr>\n",
       "      <th id=\"T_329a9_level0_row0\" class=\"row_heading level0 row0\" >lightgbm</th>\n",
       "      <td id=\"T_329a9_row0_col0\" class=\"data row0 col0\" >Light Gradient Boosting Machine</td>\n",
       "      <td id=\"T_329a9_row0_col1\" class=\"data row0 col1\" >0.8736</td>\n",
       "      <td id=\"T_329a9_row0_col2\" class=\"data row0 col2\" >0.8558</td>\n",
       "      <td id=\"T_329a9_row0_col3\" class=\"data row0 col3\" >0.5190</td>\n",
       "      <td id=\"T_329a9_row0_col4\" class=\"data row0 col4\" >0.9421</td>\n",
       "      <td id=\"T_329a9_row0_col5\" class=\"data row0 col5\" >0.6693</td>\n",
       "      <td id=\"T_329a9_row0_col6\" class=\"data row0 col6\" >0.5991</td>\n",
       "      <td id=\"T_329a9_row0_col7\" class=\"data row0 col7\" >0.6399</td>\n",
       "      <td id=\"T_329a9_row0_col8\" class=\"data row0 col8\" >0.8460</td>\n",
       "    </tr>\n",
       "    <tr>\n",
       "      <th id=\"T_329a9_level0_row1\" class=\"row_heading level0 row1\" >gbc</th>\n",
       "      <td id=\"T_329a9_row1_col0\" class=\"data row1 col0\" >Gradient Boosting Classifier</td>\n",
       "      <td id=\"T_329a9_row1_col1\" class=\"data row1 col1\" >0.8710</td>\n",
       "      <td id=\"T_329a9_row1_col2\" class=\"data row1 col2\" >0.8480</td>\n",
       "      <td id=\"T_329a9_row1_col3\" class=\"data row1 col3\" >0.5013</td>\n",
       "      <td id=\"T_329a9_row1_col4\" class=\"data row1 col4\" >0.9528</td>\n",
       "      <td id=\"T_329a9_row1_col5\" class=\"data row1 col5\" >0.6569</td>\n",
       "      <td id=\"T_329a9_row1_col6\" class=\"data row1 col6\" >0.5867</td>\n",
       "      <td id=\"T_329a9_row1_col7\" class=\"data row1 col7\" >0.6326</td>\n",
       "      <td id=\"T_329a9_row1_col8\" class=\"data row1 col8\" >3.6740</td>\n",
       "    </tr>\n",
       "    <tr>\n",
       "      <th id=\"T_329a9_level0_row2\" class=\"row_heading level0 row2\" >rf</th>\n",
       "      <td id=\"T_329a9_row2_col0\" class=\"data row2 col0\" >Random Forest Classifier</td>\n",
       "      <td id=\"T_329a9_row2_col1\" class=\"data row2 col1\" >0.8674</td>\n",
       "      <td id=\"T_329a9_row2_col2\" class=\"data row2 col2\" >0.8332</td>\n",
       "      <td id=\"T_329a9_row2_col3\" class=\"data row2 col3\" >0.5197</td>\n",
       "      <td id=\"T_329a9_row2_col4\" class=\"data row2 col4\" >0.9003</td>\n",
       "      <td id=\"T_329a9_row2_col5\" class=\"data row2 col5\" >0.6590</td>\n",
       "      <td id=\"T_329a9_row2_col6\" class=\"data row2 col6\" >0.5839</td>\n",
       "      <td id=\"T_329a9_row2_col7\" class=\"data row2 col7\" >0.6179</td>\n",
       "      <td id=\"T_329a9_row2_col8\" class=\"data row2 col8\" >4.4940</td>\n",
       "    </tr>\n",
       "    <tr>\n",
       "      <th id=\"T_329a9_level0_row3\" class=\"row_heading level0 row3\" >ada</th>\n",
       "      <td id=\"T_329a9_row3_col0\" class=\"data row3 col0\" >Ada Boost Classifier</td>\n",
       "      <td id=\"T_329a9_row3_col1\" class=\"data row3 col1\" >0.8656</td>\n",
       "      <td id=\"T_329a9_row3_col2\" class=\"data row3 col2\" >0.8378</td>\n",
       "      <td id=\"T_329a9_row3_col3\" class=\"data row3 col3\" >0.4891</td>\n",
       "      <td id=\"T_329a9_row3_col4\" class=\"data row3 col4\" >0.9346</td>\n",
       "      <td id=\"T_329a9_row3_col5\" class=\"data row3 col5\" >0.6421</td>\n",
       "      <td id=\"T_329a9_row3_col6\" class=\"data row3 col6\" >0.5691</td>\n",
       "      <td id=\"T_329a9_row3_col7\" class=\"data row3 col7\" >0.6144</td>\n",
       "      <td id=\"T_329a9_row3_col8\" class=\"data row3 col8\" >1.3030</td>\n",
       "    </tr>\n",
       "    <tr>\n",
       "      <th id=\"T_329a9_level0_row4\" class=\"row_heading level0 row4\" >lr</th>\n",
       "      <td id=\"T_329a9_row4_col0\" class=\"data row4 col0\" >Logistic Regression</td>\n",
       "      <td id=\"T_329a9_row4_col1\" class=\"data row4 col1\" >0.8629</td>\n",
       "      <td id=\"T_329a9_row4_col2\" class=\"data row4 col2\" >0.8324</td>\n",
       "      <td id=\"T_329a9_row4_col3\" class=\"data row4 col3\" >0.4760</td>\n",
       "      <td id=\"T_329a9_row4_col4\" class=\"data row4 col4\" >0.9367</td>\n",
       "      <td id=\"T_329a9_row4_col5\" class=\"data row4 col5\" >0.6312</td>\n",
       "      <td id=\"T_329a9_row4_col6\" class=\"data row4 col6\" >0.5578</td>\n",
       "      <td id=\"T_329a9_row4_col7\" class=\"data row4 col7\" >0.6060</td>\n",
       "      <td id=\"T_329a9_row4_col8\" class=\"data row4 col8\" >2.2540</td>\n",
       "    </tr>\n",
       "    <tr>\n",
       "      <th id=\"T_329a9_level0_row5\" class=\"row_heading level0 row5\" >lda</th>\n",
       "      <td id=\"T_329a9_row5_col0\" class=\"data row5 col0\" >Linear Discriminant Analysis</td>\n",
       "      <td id=\"T_329a9_row5_col1\" class=\"data row5 col1\" >0.8613</td>\n",
       "      <td id=\"T_329a9_row5_col2\" class=\"data row5 col2\" >0.8317</td>\n",
       "      <td id=\"T_329a9_row5_col3\" class=\"data row5 col3\" >0.4487</td>\n",
       "      <td id=\"T_329a9_row5_col4\" class=\"data row5 col4\" >0.9749</td>\n",
       "      <td id=\"T_329a9_row5_col5\" class=\"data row5 col5\" >0.6144</td>\n",
       "      <td id=\"T_329a9_row5_col6\" class=\"data row5 col6\" >0.5436</td>\n",
       "      <td id=\"T_329a9_row5_col7\" class=\"data row5 col7\" >0.6046</td>\n",
       "      <td id=\"T_329a9_row5_col8\" class=\"data row5 col8\" >0.5040</td>\n",
       "    </tr>\n",
       "    <tr>\n",
       "      <th id=\"T_329a9_level0_row6\" class=\"row_heading level0 row6\" >svm</th>\n",
       "      <td id=\"T_329a9_row6_col0\" class=\"data row6 col0\" >SVM - Linear Kernel</td>\n",
       "      <td id=\"T_329a9_row6_col1\" class=\"data row6 col1\" >0.8606</td>\n",
       "      <td id=\"T_329a9_row6_col2\" class=\"data row6 col2\" >0.0000</td>\n",
       "      <td id=\"T_329a9_row6_col3\" class=\"data row6 col3\" >0.4535</td>\n",
       "      <td id=\"T_329a9_row6_col4\" class=\"data row6 col4\" >0.9594</td>\n",
       "      <td id=\"T_329a9_row6_col5\" class=\"data row6 col5\" >0.6158</td>\n",
       "      <td id=\"T_329a9_row6_col6\" class=\"data row6 col6\" >0.5437</td>\n",
       "      <td id=\"T_329a9_row6_col7\" class=\"data row6 col7\" >0.6007</td>\n",
       "      <td id=\"T_329a9_row6_col8\" class=\"data row6 col8\" >0.3460</td>\n",
       "    </tr>\n",
       "    <tr>\n",
       "      <th id=\"T_329a9_level0_row7\" class=\"row_heading level0 row7\" >ridge</th>\n",
       "      <td id=\"T_329a9_row7_col0\" class=\"data row7 col0\" >Ridge Classifier</td>\n",
       "      <td id=\"T_329a9_row7_col1\" class=\"data row7 col1\" >0.8602</td>\n",
       "      <td id=\"T_329a9_row7_col2\" class=\"data row7 col2\" >0.0000</td>\n",
       "      <td id=\"T_329a9_row7_col3\" class=\"data row7 col3\" >0.4418</td>\n",
       "      <td id=\"T_329a9_row7_col4\" class=\"data row7 col4\" >0.9800</td>\n",
       "      <td id=\"T_329a9_row7_col5\" class=\"data row7 col5\" >0.6090</td>\n",
       "      <td id=\"T_329a9_row7_col6\" class=\"data row7 col6\" >0.5383</td>\n",
       "      <td id=\"T_329a9_row7_col7\" class=\"data row7 col7\" >0.6018</td>\n",
       "      <td id=\"T_329a9_row7_col8\" class=\"data row7 col8\" >0.2110</td>\n",
       "    </tr>\n",
       "    <tr>\n",
       "      <th id=\"T_329a9_level0_row8\" class=\"row_heading level0 row8\" >qda</th>\n",
       "      <td id=\"T_329a9_row8_col0\" class=\"data row8 col0\" >Quadratic Discriminant Analysis</td>\n",
       "      <td id=\"T_329a9_row8_col1\" class=\"data row8 col1\" >0.8590</td>\n",
       "      <td id=\"T_329a9_row8_col2\" class=\"data row8 col2\" >0.8143</td>\n",
       "      <td id=\"T_329a9_row8_col3\" class=\"data row8 col3\" >0.4566</td>\n",
       "      <td id=\"T_329a9_row8_col4\" class=\"data row8 col4\" >0.9409</td>\n",
       "      <td id=\"T_329a9_row8_col5\" class=\"data row8 col5\" >0.6148</td>\n",
       "      <td id=\"T_329a9_row8_col6\" class=\"data row8 col6\" >0.5408</td>\n",
       "      <td id=\"T_329a9_row8_col7\" class=\"data row8 col7\" >0.5939</td>\n",
       "      <td id=\"T_329a9_row8_col8\" class=\"data row8 col8\" >0.5600</td>\n",
       "    </tr>\n",
       "    <tr>\n",
       "      <th id=\"T_329a9_level0_row9\" class=\"row_heading level0 row9\" >et</th>\n",
       "      <td id=\"T_329a9_row9_col0\" class=\"data row9 col0\" >Extra Trees Classifier</td>\n",
       "      <td id=\"T_329a9_row9_col1\" class=\"data row9 col1\" >0.8561</td>\n",
       "      <td id=\"T_329a9_row9_col2\" class=\"data row9 col2\" >0.8209</td>\n",
       "      <td id=\"T_329a9_row9_col3\" class=\"data row9 col3\" >0.5247</td>\n",
       "      <td id=\"T_329a9_row9_col4\" class=\"data row9 col4\" >0.8285</td>\n",
       "      <td id=\"T_329a9_row9_col5\" class=\"data row9 col5\" >0.6424</td>\n",
       "      <td id=\"T_329a9_row9_col6\" class=\"data row9 col6\" >0.5579</td>\n",
       "      <td id=\"T_329a9_row9_col7\" class=\"data row9 col7\" >0.5808</td>\n",
       "      <td id=\"T_329a9_row9_col8\" class=\"data row9 col8\" >5.1100</td>\n",
       "    </tr>\n",
       "    <tr>\n",
       "      <th id=\"T_329a9_level0_row10\" class=\"row_heading level0 row10\" >nb</th>\n",
       "      <td id=\"T_329a9_row10_col0\" class=\"data row10 col0\" >Naive Bayes</td>\n",
       "      <td id=\"T_329a9_row10_col1\" class=\"data row10 col1\" >0.8523</td>\n",
       "      <td id=\"T_329a9_row10_col2\" class=\"data row10 col2\" >0.8013</td>\n",
       "      <td id=\"T_329a9_row10_col3\" class=\"data row10 col3\" >0.4727</td>\n",
       "      <td id=\"T_329a9_row10_col4\" class=\"data row10 col4\" >0.8681</td>\n",
       "      <td id=\"T_329a9_row10_col5\" class=\"data row10 col5\" >0.6120</td>\n",
       "      <td id=\"T_329a9_row10_col6\" class=\"data row10 col6\" >0.5305</td>\n",
       "      <td id=\"T_329a9_row10_col7\" class=\"data row10 col7\" >0.5679</td>\n",
       "      <td id=\"T_329a9_row10_col8\" class=\"data row10 col8\" >0.2250</td>\n",
       "    </tr>\n",
       "    <tr>\n",
       "      <th id=\"T_329a9_level0_row11\" class=\"row_heading level0 row11\" >knn</th>\n",
       "      <td id=\"T_329a9_row11_col0\" class=\"data row11 col0\" >K Neighbors Classifier</td>\n",
       "      <td id=\"T_329a9_row11_col1\" class=\"data row11 col1\" >0.8486</td>\n",
       "      <td id=\"T_329a9_row11_col2\" class=\"data row11 col2\" >0.7796</td>\n",
       "      <td id=\"T_329a9_row11_col3\" class=\"data row11 col3\" >0.4867</td>\n",
       "      <td id=\"T_329a9_row11_col4\" class=\"data row11 col4\" >0.8286</td>\n",
       "      <td id=\"T_329a9_row11_col5\" class=\"data row11 col5\" >0.6131</td>\n",
       "      <td id=\"T_329a9_row11_col6\" class=\"data row11 col6\" >0.5268</td>\n",
       "      <td id=\"T_329a9_row11_col7\" class=\"data row11 col7\" >0.5557</td>\n",
       "      <td id=\"T_329a9_row11_col8\" class=\"data row11 col8\" >3.5600</td>\n",
       "    </tr>\n",
       "    <tr>\n",
       "      <th id=\"T_329a9_level0_row12\" class=\"row_heading level0 row12\" >dt</th>\n",
       "      <td id=\"T_329a9_row12_col0\" class=\"data row12 col0\" >Decision Tree Classifier</td>\n",
       "      <td id=\"T_329a9_row12_col1\" class=\"data row12 col1\" >0.7906</td>\n",
       "      <td id=\"T_329a9_row12_col2\" class=\"data row12 col2\" >0.7277</td>\n",
       "      <td id=\"T_329a9_row12_col3\" class=\"data row12 col3\" >0.6038</td>\n",
       "      <td id=\"T_329a9_row12_col4\" class=\"data row12 col4\" >0.5710</td>\n",
       "      <td id=\"T_329a9_row12_col5\" class=\"data row12 col5\" >0.5869</td>\n",
       "      <td id=\"T_329a9_row12_col6\" class=\"data row12 col6\" >0.4468</td>\n",
       "      <td id=\"T_329a9_row12_col7\" class=\"data row12 col7\" >0.4471</td>\n",
       "      <td id=\"T_329a9_row12_col8\" class=\"data row12 col8\" >0.4100</td>\n",
       "    </tr>\n",
       "    <tr>\n",
       "      <th id=\"T_329a9_level0_row13\" class=\"row_heading level0 row13\" >dummy</th>\n",
       "      <td id=\"T_329a9_row13_col0\" class=\"data row13 col0\" >Dummy Classifier</td>\n",
       "      <td id=\"T_329a9_row13_col1\" class=\"data row13 col1\" >0.7536</td>\n",
       "      <td id=\"T_329a9_row13_col2\" class=\"data row13 col2\" >0.5000</td>\n",
       "      <td id=\"T_329a9_row13_col3\" class=\"data row13 col3\" >0.0000</td>\n",
       "      <td id=\"T_329a9_row13_col4\" class=\"data row13 col4\" >0.0000</td>\n",
       "      <td id=\"T_329a9_row13_col5\" class=\"data row13 col5\" >0.0000</td>\n",
       "      <td id=\"T_329a9_row13_col6\" class=\"data row13 col6\" >0.0000</td>\n",
       "      <td id=\"T_329a9_row13_col7\" class=\"data row13 col7\" >0.0000</td>\n",
       "      <td id=\"T_329a9_row13_col8\" class=\"data row13 col8\" >0.2250</td>\n",
       "    </tr>\n",
       "  </tbody>\n",
       "</table>\n"
      ],
      "text/plain": [
       "<pandas.io.formats.style.Styler at 0x162a6a2d480>"
      ]
     },
     "metadata": {},
     "output_type": "display_data"
    },
    {
     "data": {
      "text/html": [],
      "text/plain": [
       "<IPython.core.display.HTML object>"
      ]
     },
     "metadata": {},
     "output_type": "display_data"
    },
    {
     "data": {
      "text/html": [
       "<style>#sk-container-id-1 {color: black;background-color: white;}#sk-container-id-1 pre{padding: 0;}#sk-container-id-1 div.sk-toggleable {background-color: white;}#sk-container-id-1 label.sk-toggleable__label {cursor: pointer;display: block;width: 100%;margin-bottom: 0;padding: 0.3em;box-sizing: border-box;text-align: center;}#sk-container-id-1 label.sk-toggleable__label-arrow:before {content: \"▸\";float: left;margin-right: 0.25em;color: #696969;}#sk-container-id-1 label.sk-toggleable__label-arrow:hover:before {color: black;}#sk-container-id-1 div.sk-estimator:hover label.sk-toggleable__label-arrow:before {color: black;}#sk-container-id-1 div.sk-toggleable__content {max-height: 0;max-width: 0;overflow: hidden;text-align: left;background-color: #f0f8ff;}#sk-container-id-1 div.sk-toggleable__content pre {margin: 0.2em;color: black;border-radius: 0.25em;background-color: #f0f8ff;}#sk-container-id-1 input.sk-toggleable__control:checked~div.sk-toggleable__content {max-height: 200px;max-width: 100%;overflow: auto;}#sk-container-id-1 input.sk-toggleable__control:checked~label.sk-toggleable__label-arrow:before {content: \"▾\";}#sk-container-id-1 div.sk-estimator input.sk-toggleable__control:checked~label.sk-toggleable__label {background-color: #d4ebff;}#sk-container-id-1 div.sk-label input.sk-toggleable__control:checked~label.sk-toggleable__label {background-color: #d4ebff;}#sk-container-id-1 input.sk-hidden--visually {border: 0;clip: rect(1px 1px 1px 1px);clip: rect(1px, 1px, 1px, 1px);height: 1px;margin: -1px;overflow: hidden;padding: 0;position: absolute;width: 1px;}#sk-container-id-1 div.sk-estimator {font-family: monospace;background-color: #f0f8ff;border: 1px dotted black;border-radius: 0.25em;box-sizing: border-box;margin-bottom: 0.5em;}#sk-container-id-1 div.sk-estimator:hover {background-color: #d4ebff;}#sk-container-id-1 div.sk-parallel-item::after {content: \"\";width: 100%;border-bottom: 1px solid gray;flex-grow: 1;}#sk-container-id-1 div.sk-label:hover label.sk-toggleable__label {background-color: #d4ebff;}#sk-container-id-1 div.sk-serial::before {content: \"\";position: absolute;border-left: 1px solid gray;box-sizing: border-box;top: 0;bottom: 0;left: 50%;z-index: 0;}#sk-container-id-1 div.sk-serial {display: flex;flex-direction: column;align-items: center;background-color: white;padding-right: 0.2em;padding-left: 0.2em;position: relative;}#sk-container-id-1 div.sk-item {position: relative;z-index: 1;}#sk-container-id-1 div.sk-parallel {display: flex;align-items: stretch;justify-content: center;background-color: white;position: relative;}#sk-container-id-1 div.sk-item::before, #sk-container-id-1 div.sk-parallel-item::before {content: \"\";position: absolute;border-left: 1px solid gray;box-sizing: border-box;top: 0;bottom: 0;left: 50%;z-index: -1;}#sk-container-id-1 div.sk-parallel-item {display: flex;flex-direction: column;z-index: 1;position: relative;background-color: white;}#sk-container-id-1 div.sk-parallel-item:first-child::after {align-self: flex-end;width: 50%;}#sk-container-id-1 div.sk-parallel-item:last-child::after {align-self: flex-start;width: 50%;}#sk-container-id-1 div.sk-parallel-item:only-child::after {width: 0;}#sk-container-id-1 div.sk-dashed-wrapped {border: 1px dashed gray;margin: 0 0.4em 0.5em 0.4em;box-sizing: border-box;padding-bottom: 0.4em;background-color: white;}#sk-container-id-1 div.sk-label label {font-family: monospace;font-weight: bold;display: inline-block;line-height: 1.2em;}#sk-container-id-1 div.sk-label-container {text-align: center;}#sk-container-id-1 div.sk-container {/* jupyter's `normalize.less` sets `[hidden] { display: none; }` but bootstrap.min.css set `[hidden] { display: none !important; }` so we also need the `!important` here to be able to override the default hidden behavior on the sphinx rendered scikit-learn.org. See: https://github.com/scikit-learn/scikit-learn/issues/21755 */display: inline-block !important;position: relative;}#sk-container-id-1 div.sk-text-repr-fallback {display: none;}</style><div id=\"sk-container-id-1\" class=\"sk-top-container\"><div class=\"sk-text-repr-fallback\"><pre>LGBMClassifier(boosting_type=&#x27;gbdt&#x27;, class_weight=None, colsample_bytree=1.0,\n",
       "               importance_type=&#x27;split&#x27;, learning_rate=0.1, max_depth=-1,\n",
       "               min_child_samples=20, min_child_weight=0.001, min_split_gain=0.0,\n",
       "               n_estimators=100, n_jobs=-1, num_leaves=31, objective=None,\n",
       "               random_state=351, reg_alpha=0.0, reg_lambda=0.0, subsample=1.0,\n",
       "               subsample_for_bin=200000, subsample_freq=0)</pre><b>In a Jupyter environment, please rerun this cell to show the HTML representation or trust the notebook. <br />On GitHub, the HTML representation is unable to render, please try loading this page with nbviewer.org.</b></div><div class=\"sk-container\" hidden><div class=\"sk-item\"><div class=\"sk-estimator sk-toggleable\"><input class=\"sk-toggleable__control sk-hidden--visually\" id=\"sk-estimator-id-1\" type=\"checkbox\" checked><label for=\"sk-estimator-id-1\" class=\"sk-toggleable__label sk-toggleable__label-arrow\">LGBMClassifier</label><div class=\"sk-toggleable__content\"><pre>LGBMClassifier(boosting_type=&#x27;gbdt&#x27;, class_weight=None, colsample_bytree=1.0,\n",
       "               importance_type=&#x27;split&#x27;, learning_rate=0.1, max_depth=-1,\n",
       "               min_child_samples=20, min_child_weight=0.001, min_split_gain=0.0,\n",
       "               n_estimators=100, n_jobs=-1, num_leaves=31, objective=None,\n",
       "               random_state=351, reg_alpha=0.0, reg_lambda=0.0, subsample=1.0,\n",
       "               subsample_for_bin=200000, subsample_freq=0)</pre></div></div></div></div></div>"
      ],
      "text/plain": [
       "LGBMClassifier(boosting_type='gbdt', class_weight=None, colsample_bytree=1.0,\n",
       "               importance_type='split', learning_rate=0.1, max_depth=-1,\n",
       "               min_child_samples=20, min_child_weight=0.001, min_split_gain=0.0,\n",
       "               n_estimators=100, n_jobs=-1, num_leaves=31, objective=None,\n",
       "               random_state=351, reg_alpha=0.0, reg_lambda=0.0, subsample=1.0,\n",
       "               subsample_for_bin=200000, subsample_freq=0)"
      ]
     },
     "execution_count": 36,
     "metadata": {},
     "output_type": "execute_result"
    }
   ],
   "source": [
    "compare_models()"
   ]
  },
  {
   "cell_type": "code",
   "execution_count": 37,
   "metadata": {},
   "outputs": [
    {
     "data": {
      "text/html": [],
      "text/plain": [
       "<IPython.core.display.HTML object>"
      ]
     },
     "metadata": {},
     "output_type": "display_data"
    },
    {
     "data": {
      "text/html": [
       "<style type=\"text/css\">\n",
       "#T_9bd17_row10_col0, #T_9bd17_row10_col1, #T_9bd17_row10_col2, #T_9bd17_row10_col3, #T_9bd17_row10_col4, #T_9bd17_row10_col5, #T_9bd17_row10_col6 {\n",
       "  background: yellow;\n",
       "}\n",
       "</style>\n",
       "<table id=\"T_9bd17\">\n",
       "  <thead>\n",
       "    <tr>\n",
       "      <th class=\"blank level0\" >&nbsp;</th>\n",
       "      <th id=\"T_9bd17_level0_col0\" class=\"col_heading level0 col0\" >Accuracy</th>\n",
       "      <th id=\"T_9bd17_level0_col1\" class=\"col_heading level0 col1\" >AUC</th>\n",
       "      <th id=\"T_9bd17_level0_col2\" class=\"col_heading level0 col2\" >Recall</th>\n",
       "      <th id=\"T_9bd17_level0_col3\" class=\"col_heading level0 col3\" >Prec.</th>\n",
       "      <th id=\"T_9bd17_level0_col4\" class=\"col_heading level0 col4\" >F1</th>\n",
       "      <th id=\"T_9bd17_level0_col5\" class=\"col_heading level0 col5\" >Kappa</th>\n",
       "      <th id=\"T_9bd17_level0_col6\" class=\"col_heading level0 col6\" >MCC</th>\n",
       "    </tr>\n",
       "    <tr>\n",
       "      <th class=\"index_name level0\" >Fold</th>\n",
       "      <th class=\"blank col0\" >&nbsp;</th>\n",
       "      <th class=\"blank col1\" >&nbsp;</th>\n",
       "      <th class=\"blank col2\" >&nbsp;</th>\n",
       "      <th class=\"blank col3\" >&nbsp;</th>\n",
       "      <th class=\"blank col4\" >&nbsp;</th>\n",
       "      <th class=\"blank col5\" >&nbsp;</th>\n",
       "      <th class=\"blank col6\" >&nbsp;</th>\n",
       "    </tr>\n",
       "  </thead>\n",
       "  <tbody>\n",
       "    <tr>\n",
       "      <th id=\"T_9bd17_level0_row0\" class=\"row_heading level0 row0\" >0</th>\n",
       "      <td id=\"T_9bd17_row0_col0\" class=\"data row0 col0\" >0.8702</td>\n",
       "      <td id=\"T_9bd17_row0_col1\" class=\"data row0 col1\" >0.8462</td>\n",
       "      <td id=\"T_9bd17_row0_col2\" class=\"data row0 col2\" >0.5016</td>\n",
       "      <td id=\"T_9bd17_row0_col3\" class=\"data row0 col3\" >0.9463</td>\n",
       "      <td id=\"T_9bd17_row0_col4\" class=\"data row0 col4\" >0.6556</td>\n",
       "      <td id=\"T_9bd17_row0_col5\" class=\"data row0 col5\" >0.5847</td>\n",
       "      <td id=\"T_9bd17_row0_col6\" class=\"data row0 col6\" >0.6295</td>\n",
       "    </tr>\n",
       "    <tr>\n",
       "      <th id=\"T_9bd17_level0_row1\" class=\"row_heading level0 row1\" >1</th>\n",
       "      <td id=\"T_9bd17_row1_col0\" class=\"data row1 col0\" >0.8712</td>\n",
       "      <td id=\"T_9bd17_row1_col1\" class=\"data row1 col1\" >0.8585</td>\n",
       "      <td id=\"T_9bd17_row1_col2\" class=\"data row1 col2\" >0.5172</td>\n",
       "      <td id=\"T_9bd17_row1_col3\" class=\"data row1 col3\" >0.9286</td>\n",
       "      <td id=\"T_9bd17_row1_col4\" class=\"data row1 col4\" >0.6643</td>\n",
       "      <td id=\"T_9bd17_row1_col5\" class=\"data row1 col5\" >0.5925</td>\n",
       "      <td id=\"T_9bd17_row1_col6\" class=\"data row1 col6\" >0.6314</td>\n",
       "    </tr>\n",
       "    <tr>\n",
       "      <th id=\"T_9bd17_level0_row2\" class=\"row_heading level0 row2\" >2</th>\n",
       "      <td id=\"T_9bd17_row2_col0\" class=\"data row2 col0\" >0.8733</td>\n",
       "      <td id=\"T_9bd17_row2_col1\" class=\"data row2 col1\" >0.8525</td>\n",
       "      <td id=\"T_9bd17_row2_col2\" class=\"data row2 col2\" >0.5201</td>\n",
       "      <td id=\"T_9bd17_row2_col3\" class=\"data row2 col3\" >0.9381</td>\n",
       "      <td id=\"T_9bd17_row2_col4\" class=\"data row2 col4\" >0.6692</td>\n",
       "      <td id=\"T_9bd17_row2_col5\" class=\"data row2 col5\" >0.5986</td>\n",
       "      <td id=\"T_9bd17_row2_col6\" class=\"data row2 col6\" >0.6385</td>\n",
       "    </tr>\n",
       "    <tr>\n",
       "      <th id=\"T_9bd17_level0_row3\" class=\"row_heading level0 row3\" >3</th>\n",
       "      <td id=\"T_9bd17_row3_col0\" class=\"data row3 col0\" >0.8754</td>\n",
       "      <td id=\"T_9bd17_row3_col1\" class=\"data row3 col1\" >0.8604</td>\n",
       "      <td id=\"T_9bd17_row3_col2\" class=\"data row3 col2\" >0.5228</td>\n",
       "      <td id=\"T_9bd17_row3_col3\" class=\"data row3 col3\" >0.9484</td>\n",
       "      <td id=\"T_9bd17_row3_col4\" class=\"data row3 col4\" >0.6740</td>\n",
       "      <td id=\"T_9bd17_row3_col5\" class=\"data row3 col5\" >0.6048</td>\n",
       "      <td id=\"T_9bd17_row3_col6\" class=\"data row3 col6\" >0.6458</td>\n",
       "    </tr>\n",
       "    <tr>\n",
       "      <th id=\"T_9bd17_level0_row4\" class=\"row_heading level0 row4\" >4</th>\n",
       "      <td id=\"T_9bd17_row4_col0\" class=\"data row4 col0\" >0.8734</td>\n",
       "      <td id=\"T_9bd17_row4_col1\" class=\"data row4 col1\" >0.8536</td>\n",
       "      <td id=\"T_9bd17_row4_col2\" class=\"data row4 col2\" >0.5205</td>\n",
       "      <td id=\"T_9bd17_row4_col3\" class=\"data row4 col3\" >0.9382</td>\n",
       "      <td id=\"T_9bd17_row4_col4\" class=\"data row4 col4\" >0.6695</td>\n",
       "      <td id=\"T_9bd17_row4_col5\" class=\"data row4 col5\" >0.5990</td>\n",
       "      <td id=\"T_9bd17_row4_col6\" class=\"data row4 col6\" >0.6388</td>\n",
       "    </tr>\n",
       "    <tr>\n",
       "      <th id=\"T_9bd17_level0_row5\" class=\"row_heading level0 row5\" >5</th>\n",
       "      <td id=\"T_9bd17_row5_col0\" class=\"data row5 col0\" >0.8773</td>\n",
       "      <td id=\"T_9bd17_row5_col1\" class=\"data row5 col1\" >0.8591</td>\n",
       "      <td id=\"T_9bd17_row5_col2\" class=\"data row5 col2\" >0.5298</td>\n",
       "      <td id=\"T_9bd17_row5_col3\" class=\"data row5 col3\" >0.9503</td>\n",
       "      <td id=\"T_9bd17_row5_col4\" class=\"data row5 col4\" >0.6804</td>\n",
       "      <td id=\"T_9bd17_row5_col5\" class=\"data row5 col5\" >0.6119</td>\n",
       "      <td id=\"T_9bd17_row5_col6\" class=\"data row5 col6\" >0.6519</td>\n",
       "    </tr>\n",
       "    <tr>\n",
       "      <th id=\"T_9bd17_level0_row6\" class=\"row_heading level0 row6\" >6</th>\n",
       "      <td id=\"T_9bd17_row6_col0\" class=\"data row6 col0\" >0.8716</td>\n",
       "      <td id=\"T_9bd17_row6_col1\" class=\"data row6 col1\" >0.8539</td>\n",
       "      <td id=\"T_9bd17_row6_col2\" class=\"data row6 col2\" >0.5103</td>\n",
       "      <td id=\"T_9bd17_row6_col3\" class=\"data row6 col3\" >0.9424</td>\n",
       "      <td id=\"T_9bd17_row6_col4\" class=\"data row6 col4\" >0.6621</td>\n",
       "      <td id=\"T_9bd17_row6_col5\" class=\"data row6 col5\" >0.5914</td>\n",
       "      <td id=\"T_9bd17_row6_col6\" class=\"data row6 col6\" >0.6338</td>\n",
       "    </tr>\n",
       "    <tr>\n",
       "      <th id=\"T_9bd17_level0_row7\" class=\"row_heading level0 row7\" >7</th>\n",
       "      <td id=\"T_9bd17_row7_col0\" class=\"data row7 col0\" >0.8750</td>\n",
       "      <td id=\"T_9bd17_row7_col1\" class=\"data row7 col1\" >0.8607</td>\n",
       "      <td id=\"T_9bd17_row7_col2\" class=\"data row7 col2\" >0.5228</td>\n",
       "      <td id=\"T_9bd17_row7_col3\" class=\"data row7 col3\" >0.9457</td>\n",
       "      <td id=\"T_9bd17_row7_col4\" class=\"data row7 col4\" >0.6734</td>\n",
       "      <td id=\"T_9bd17_row7_col5\" class=\"data row7 col5\" >0.6038</td>\n",
       "      <td id=\"T_9bd17_row7_col6\" class=\"data row7 col6\" >0.6444</td>\n",
       "    </tr>\n",
       "    <tr>\n",
       "      <th id=\"T_9bd17_level0_row8\" class=\"row_heading level0 row8\" >8</th>\n",
       "      <td id=\"T_9bd17_row8_col0\" class=\"data row8 col0\" >0.8748</td>\n",
       "      <td id=\"T_9bd17_row8_col1\" class=\"data row8 col1\" >0.8553</td>\n",
       "      <td id=\"T_9bd17_row8_col2\" class=\"data row8 col2\" >0.5275</td>\n",
       "      <td id=\"T_9bd17_row8_col3\" class=\"data row8 col3\" >0.9370</td>\n",
       "      <td id=\"T_9bd17_row8_col4\" class=\"data row8 col4\" >0.6750</td>\n",
       "      <td id=\"T_9bd17_row8_col5\" class=\"data row8 col5\" >0.6048</td>\n",
       "      <td id=\"T_9bd17_row8_col6\" class=\"data row8 col6\" >0.6431</td>\n",
       "    </tr>\n",
       "    <tr>\n",
       "      <th id=\"T_9bd17_level0_row9\" class=\"row_heading level0 row9\" >9</th>\n",
       "      <td id=\"T_9bd17_row9_col0\" class=\"data row9 col0\" >0.8740</td>\n",
       "      <td id=\"T_9bd17_row9_col1\" class=\"data row9 col1\" >0.8575</td>\n",
       "      <td id=\"T_9bd17_row9_col2\" class=\"data row9 col2\" >0.5179</td>\n",
       "      <td id=\"T_9bd17_row9_col3\" class=\"data row9 col3\" >0.9465</td>\n",
       "      <td id=\"T_9bd17_row9_col4\" class=\"data row9 col4\" >0.6695</td>\n",
       "      <td id=\"T_9bd17_row9_col5\" class=\"data row9 col5\" >0.5998</td>\n",
       "      <td id=\"T_9bd17_row9_col6\" class=\"data row9 col6\" >0.6414</td>\n",
       "    </tr>\n",
       "    <tr>\n",
       "      <th id=\"T_9bd17_level0_row10\" class=\"row_heading level0 row10\" >Mean</th>\n",
       "      <td id=\"T_9bd17_row10_col0\" class=\"data row10 col0\" >0.8736</td>\n",
       "      <td id=\"T_9bd17_row10_col1\" class=\"data row10 col1\" >0.8558</td>\n",
       "      <td id=\"T_9bd17_row10_col2\" class=\"data row10 col2\" >0.5190</td>\n",
       "      <td id=\"T_9bd17_row10_col3\" class=\"data row10 col3\" >0.9421</td>\n",
       "      <td id=\"T_9bd17_row10_col4\" class=\"data row10 col4\" >0.6693</td>\n",
       "      <td id=\"T_9bd17_row10_col5\" class=\"data row10 col5\" >0.5991</td>\n",
       "      <td id=\"T_9bd17_row10_col6\" class=\"data row10 col6\" >0.6399</td>\n",
       "    </tr>\n",
       "    <tr>\n",
       "      <th id=\"T_9bd17_level0_row11\" class=\"row_heading level0 row11\" >Std</th>\n",
       "      <td id=\"T_9bd17_row11_col0\" class=\"data row11 col0\" >0.0020</td>\n",
       "      <td id=\"T_9bd17_row11_col1\" class=\"data row11 col1\" >0.0042</td>\n",
       "      <td id=\"T_9bd17_row11_col2\" class=\"data row11 col2\" >0.0078</td>\n",
       "      <td id=\"T_9bd17_row11_col3\" class=\"data row11 col3\" >0.0063</td>\n",
       "      <td id=\"T_9bd17_row11_col4\" class=\"data row11 col4\" >0.0068</td>\n",
       "      <td id=\"T_9bd17_row11_col5\" class=\"data row11 col5\" >0.0075</td>\n",
       "      <td id=\"T_9bd17_row11_col6\" class=\"data row11 col6\" >0.0066</td>\n",
       "    </tr>\n",
       "  </tbody>\n",
       "</table>\n"
      ],
      "text/plain": [
       "<pandas.io.formats.style.Styler at 0x162a6b14f40>"
      ]
     },
     "metadata": {},
     "output_type": "display_data"
    },
    {
     "data": {
      "text/html": [],
      "text/plain": [
       "<IPython.core.display.HTML object>"
      ]
     },
     "metadata": {},
     "output_type": "display_data"
    }
   ],
   "source": [
    "best_model = create_model('lightgbm')"
   ]
  },
  {
   "cell_type": "code",
   "execution_count": 38,
   "metadata": {},
   "outputs": [
    {
     "data": {
      "text/plain": [
       "['model.save']"
      ]
     },
     "execution_count": 38,
     "metadata": {},
     "output_type": "execute_result"
    }
   ],
   "source": [
    "import joblib\n",
    "joblib.dump(best_model,\"model.save\")"
   ]
  },
  {
   "cell_type": "code",
   "execution_count": 39,
   "metadata": {},
   "outputs": [],
   "source": [
    "# Deep Learning"
   ]
  },
  {
   "cell_type": "code",
   "execution_count": 40,
   "metadata": {},
   "outputs": [],
   "source": [
    "x_train,x_test,y_train,y_test = train_test_split(x,y,test_size=0.33,random_state=30)"
   ]
  },
  {
   "cell_type": "code",
   "execution_count": 83,
   "metadata": {},
   "outputs": [],
   "source": [
    "from tensorflow.keras.models import Sequential\n",
    "from tensorflow.keras.layers import Dense,Dropout,LeakyReLU\n",
    "from tensorflow.keras.callbacks import ModelCheckpoint\n",
    "from tensorflow.keras.losses import MeanSquaredLogarithmicError\n",
    "from tensorflow.keras.models import load_model"
   ]
  },
  {
   "cell_type": "code",
   "execution_count": 77,
   "metadata": {},
   "outputs": [],
   "source": [
    "model = Sequential()\n",
    "model.add(Dense(5000))\n",
    "model.add(LeakyReLU(alpha= -0.1))\n",
    "model.add(Dropout(0.3))\n",
    "model.add(Dense(1000))\n",
    "model.add(LeakyReLU(alpha= -0.1))\n",
    "model.add(Dropout(0.25))\n",
    "model.add(Dense(400))\n",
    "model.add(LeakyReLU(alpha= -0.1))\n",
    "model.add(Dense(100))\n",
    "model.add(LeakyReLU(alpha= -0.1))\n",
    "model.add(Dense(25))\n",
    "model.add(LeakyReLU(alpha= -0.1))\n",
    "model.add(Dense(10))\n",
    "model.add(LeakyReLU(alpha= -0.1))\n",
    "model.add(Dense(1,\"sigmoid\"))\n",
    "model.compile(optimizer=\"adam\",loss=\"binary_crossentropy\",metrics=\"accuracy\")"
   ]
  },
  {
   "cell_type": "code",
   "execution_count": 78,
   "metadata": {},
   "outputs": [],
   "source": [
    "checkpoint_file = \"best_model\"\n",
    "checkpoint = ModelCheckpoint(\n",
    "    checkpoint_file,\n",
    "    monitor='val_accuracy',\n",
    "    save_best_only=True\n",
    ")"
   ]
  },
  {
   "cell_type": "code",
   "execution_count": 79,
   "metadata": {},
   "outputs": [
    {
     "name": "stdout",
     "output_type": "stream",
     "text": [
      "Epoch 1/100\n",
      "3107/3113 [============================>.] - ETA: 0s - loss: 0.3629 - accuracy: 0.8614INFO:tensorflow:Assets written to: best_model\\assets\n"
     ]
    },
    {
     "name": "stderr",
     "output_type": "stream",
     "text": [
      "INFO:tensorflow:Assets written to: best_model\\assets\n"
     ]
    },
    {
     "name": "stdout",
     "output_type": "stream",
     "text": [
      "3113/3113 [==============================] - 26s 8ms/step - loss: 0.3630 - accuracy: 0.8614 - val_loss: 0.3597 - val_accuracy: 0.8620\n",
      "Epoch 2/100\n",
      "3106/3113 [============================>.] - ETA: 0s - loss: 0.3510 - accuracy: 0.8658INFO:tensorflow:Assets written to: best_model\\assets\n"
     ]
    },
    {
     "name": "stderr",
     "output_type": "stream",
     "text": [
      "INFO:tensorflow:Assets written to: best_model\\assets\n"
     ]
    },
    {
     "name": "stdout",
     "output_type": "stream",
     "text": [
      "3113/3113 [==============================] - 28s 9ms/step - loss: 0.3510 - accuracy: 0.8658 - val_loss: 0.3509 - val_accuracy: 0.8622\n",
      "Epoch 3/100\n",
      "3111/3113 [============================>.] - ETA: 0s - loss: 0.3454 - accuracy: 0.8673INFO:tensorflow:Assets written to: best_model\\assets\n"
     ]
    },
    {
     "name": "stderr",
     "output_type": "stream",
     "text": [
      "INFO:tensorflow:Assets written to: best_model\\assets\n"
     ]
    },
    {
     "name": "stdout",
     "output_type": "stream",
     "text": [
      "3113/3113 [==============================] - 22s 7ms/step - loss: 0.3454 - accuracy: 0.8674 - val_loss: 0.3439 - val_accuracy: 0.8676\n",
      "Epoch 4/100\n",
      "3105/3113 [============================>.] - ETA: 0s - loss: 0.3417 - accuracy: 0.8688INFO:tensorflow:Assets written to: best_model\\assets\n"
     ]
    },
    {
     "name": "stderr",
     "output_type": "stream",
     "text": [
      "INFO:tensorflow:Assets written to: best_model\\assets\n"
     ]
    },
    {
     "name": "stdout",
     "output_type": "stream",
     "text": [
      "3113/3113 [==============================] - 24s 8ms/step - loss: 0.3417 - accuracy: 0.8688 - val_loss: 0.3421 - val_accuracy: 0.8677\n",
      "Epoch 5/100\n",
      "3107/3113 [============================>.] - ETA: 0s - loss: 0.3391 - accuracy: 0.8707INFO:tensorflow:Assets written to: best_model\\assets\n"
     ]
    },
    {
     "name": "stderr",
     "output_type": "stream",
     "text": [
      "INFO:tensorflow:Assets written to: best_model\\assets\n"
     ]
    },
    {
     "name": "stdout",
     "output_type": "stream",
     "text": [
      "3113/3113 [==============================] - 27s 9ms/step - loss: 0.3392 - accuracy: 0.8707 - val_loss: 0.3421 - val_accuracy: 0.8701\n",
      "Epoch 6/100\n",
      "3113/3113 [==============================] - ETA: 0s - loss: 0.3374 - accuracy: 0.8711INFO:tensorflow:Assets written to: best_model\\assets\n"
     ]
    },
    {
     "name": "stderr",
     "output_type": "stream",
     "text": [
      "INFO:tensorflow:Assets written to: best_model\\assets\n"
     ]
    },
    {
     "name": "stdout",
     "output_type": "stream",
     "text": [
      "3113/3113 [==============================] - 25s 8ms/step - loss: 0.3374 - accuracy: 0.8711 - val_loss: 0.3372 - val_accuracy: 0.8708\n",
      "Epoch 7/100\n",
      "3112/3113 [============================>.] - ETA: 0s - loss: 0.3348 - accuracy: 0.8725INFO:tensorflow:Assets written to: best_model\\assets\n"
     ]
    },
    {
     "name": "stderr",
     "output_type": "stream",
     "text": [
      "INFO:tensorflow:Assets written to: best_model\\assets\n"
     ]
    },
    {
     "name": "stdout",
     "output_type": "stream",
     "text": [
      "3113/3113 [==============================] - 23s 7ms/step - loss: 0.3348 - accuracy: 0.8725 - val_loss: 0.3398 - val_accuracy: 0.8708\n",
      "Epoch 8/100\n",
      "3113/3113 [==============================] - 23s 7ms/step - loss: 0.3332 - accuracy: 0.8726 - val_loss: 0.3401 - val_accuracy: 0.8693\n",
      "Epoch 9/100\n",
      "3113/3113 [==============================] - 19s 6ms/step - loss: 0.3323 - accuracy: 0.8737 - val_loss: 0.3465 - val_accuracy: 0.8691\n",
      "Epoch 10/100\n",
      "3111/3113 [============================>.] - ETA: 0s - loss: 0.3313 - accuracy: 0.8739INFO:tensorflow:Assets written to: best_model\\assets\n"
     ]
    },
    {
     "name": "stderr",
     "output_type": "stream",
     "text": [
      "INFO:tensorflow:Assets written to: best_model\\assets\n"
     ]
    },
    {
     "name": "stdout",
     "output_type": "stream",
     "text": [
      "3113/3113 [==============================] - 20s 6ms/step - loss: 0.3313 - accuracy: 0.8739 - val_loss: 0.3345 - val_accuracy: 0.8717\n",
      "Epoch 11/100\n",
      "3113/3113 [==============================] - 19s 6ms/step - loss: 0.3309 - accuracy: 0.8738 - val_loss: 0.3361 - val_accuracy: 0.8709\n",
      "Epoch 12/100\n",
      "3109/3113 [============================>.] - ETA: 0s - loss: 0.3296 - accuracy: 0.8743INFO:tensorflow:Assets written to: best_model\\assets\n"
     ]
    },
    {
     "name": "stderr",
     "output_type": "stream",
     "text": [
      "INFO:tensorflow:Assets written to: best_model\\assets\n"
     ]
    },
    {
     "name": "stdout",
     "output_type": "stream",
     "text": [
      "3113/3113 [==============================] - 20s 6ms/step - loss: 0.3296 - accuracy: 0.8742 - val_loss: 0.3355 - val_accuracy: 0.8722\n",
      "Epoch 13/100\n",
      "3113/3113 [==============================] - 18s 6ms/step - loss: 0.3290 - accuracy: 0.8746 - val_loss: 0.3432 - val_accuracy: 0.8682\n",
      "Epoch 14/100\n",
      "3113/3113 [==============================] - 18s 6ms/step - loss: 0.3283 - accuracy: 0.8750 - val_loss: 0.3377 - val_accuracy: 0.8719\n",
      "Epoch 15/100\n",
      "3108/3113 [============================>.] - ETA: 0s - loss: 0.3269 - accuracy: 0.8752INFO:tensorflow:Assets written to: best_model\\assets\n"
     ]
    },
    {
     "name": "stderr",
     "output_type": "stream",
     "text": [
      "INFO:tensorflow:Assets written to: best_model\\assets\n"
     ]
    },
    {
     "name": "stdout",
     "output_type": "stream",
     "text": [
      "3113/3113 [==============================] - 20s 6ms/step - loss: 0.3270 - accuracy: 0.8751 - val_loss: 0.3338 - val_accuracy: 0.8727\n",
      "Epoch 16/100\n",
      "3113/3113 [==============================] - 19s 6ms/step - loss: 0.3270 - accuracy: 0.8756 - val_loss: 0.3342 - val_accuracy: 0.8714\n",
      "Epoch 17/100\n",
      "3113/3113 [==============================] - 19s 6ms/step - loss: 0.3255 - accuracy: 0.8758 - val_loss: 0.3340 - val_accuracy: 0.8725\n",
      "Epoch 18/100\n",
      "3113/3113 [==============================] - 19s 6ms/step - loss: 0.3255 - accuracy: 0.8758 - val_loss: 0.3347 - val_accuracy: 0.8718\n",
      "Epoch 19/100\n",
      "3113/3113 [==============================] - 19s 6ms/step - loss: 0.3250 - accuracy: 0.8768 - val_loss: 0.3359 - val_accuracy: 0.8719\n",
      "Epoch 20/100\n",
      "3113/3113 [==============================] - 18s 6ms/step - loss: 0.3240 - accuracy: 0.8766 - val_loss: 0.3371 - val_accuracy: 0.8719\n",
      "Epoch 21/100\n",
      "3113/3113 [==============================] - 24s 8ms/step - loss: 0.3230 - accuracy: 0.8773 - val_loss: 0.3380 - val_accuracy: 0.8694\n",
      "Epoch 22/100\n",
      "3113/3113 [==============================] - 20s 6ms/step - loss: 0.3227 - accuracy: 0.8776 - val_loss: 0.3385 - val_accuracy: 0.8724\n",
      "Epoch 23/100\n",
      "3113/3113 [==============================] - 24s 8ms/step - loss: 0.3219 - accuracy: 0.8773 - val_loss: 0.3385 - val_accuracy: 0.8715\n",
      "Epoch 24/100\n",
      "3113/3113 [==============================] - 24s 8ms/step - loss: 0.3211 - accuracy: 0.8786 - val_loss: 0.3368 - val_accuracy: 0.8710\n",
      "Epoch 25/100\n",
      "3113/3113 [==============================] - 21s 7ms/step - loss: 0.3206 - accuracy: 0.8780 - val_loss: 0.3372 - val_accuracy: 0.8710\n",
      "Epoch 26/100\n",
      "3113/3113 [==============================] - 21s 7ms/step - loss: 0.3204 - accuracy: 0.8784 - val_loss: 0.3447 - val_accuracy: 0.8712\n",
      "Epoch 27/100\n",
      "3113/3113 [==============================] - 24s 8ms/step - loss: 0.3196 - accuracy: 0.8785 - val_loss: 0.3376 - val_accuracy: 0.8715\n",
      "Epoch 28/100\n",
      "3113/3113 [==============================] - 25s 8ms/step - loss: 0.3183 - accuracy: 0.8785 - val_loss: 0.3364 - val_accuracy: 0.8714\n",
      "Epoch 29/100\n",
      "3113/3113 [==============================] - 23s 7ms/step - loss: 0.3174 - accuracy: 0.8792 - val_loss: 0.3416 - val_accuracy: 0.8717\n",
      "Epoch 30/100\n",
      "3113/3113 [==============================] - 24s 8ms/step - loss: 0.3175 - accuracy: 0.8793 - val_loss: 0.3396 - val_accuracy: 0.8706\n",
      "Epoch 31/100\n",
      "3113/3113 [==============================] - 38s 12ms/step - loss: 0.3169 - accuracy: 0.8800 - val_loss: 0.3383 - val_accuracy: 0.8709\n",
      "Epoch 32/100\n",
      "3113/3113 [==============================] - 48s 15ms/step - loss: 0.3162 - accuracy: 0.8801 - val_loss: 0.3401 - val_accuracy: 0.8700\n",
      "Epoch 33/100\n",
      "3113/3113 [==============================] - 25s 8ms/step - loss: 0.3151 - accuracy: 0.8800 - val_loss: 0.3423 - val_accuracy: 0.8715\n",
      "Epoch 34/100\n",
      "3113/3113 [==============================] - 27s 9ms/step - loss: 0.3155 - accuracy: 0.8805 - val_loss: 0.3375 - val_accuracy: 0.8707\n",
      "Epoch 35/100\n",
      "3113/3113 [==============================] - 33s 10ms/step - loss: 0.3143 - accuracy: 0.8812 - val_loss: 0.3403 - val_accuracy: 0.8706\n",
      "Epoch 36/100\n",
      "3113/3113 [==============================] - 24s 8ms/step - loss: 0.3127 - accuracy: 0.8816 - val_loss: 0.3522 - val_accuracy: 0.8699\n",
      "Epoch 37/100\n",
      "3113/3113 [==============================] - 20s 7ms/step - loss: 0.3131 - accuracy: 0.8813 - val_loss: 0.3515 - val_accuracy: 0.8702\n",
      "Epoch 38/100\n",
      "3113/3113 [==============================] - 20s 7ms/step - loss: 0.3116 - accuracy: 0.8825 - val_loss: 0.3432 - val_accuracy: 0.8691\n",
      "Epoch 39/100\n",
      "3113/3113 [==============================] - 20s 7ms/step - loss: 0.3112 - accuracy: 0.8819 - val_loss: 0.3429 - val_accuracy: 0.8697\n",
      "Epoch 40/100\n",
      "3113/3113 [==============================] - 20s 7ms/step - loss: 0.3105 - accuracy: 0.8828 - val_loss: 0.3512 - val_accuracy: 0.8658\n",
      "Epoch 41/100\n",
      "3113/3113 [==============================] - 24s 8ms/step - loss: 0.3090 - accuracy: 0.8833 - val_loss: 0.3555 - val_accuracy: 0.8691\n",
      "Epoch 42/100\n",
      "3113/3113 [==============================] - 24s 8ms/step - loss: 0.3088 - accuracy: 0.8835 - val_loss: 0.3604 - val_accuracy: 0.8691\n",
      "Epoch 43/100\n",
      "3113/3113 [==============================] - 26s 8ms/step - loss: 0.3080 - accuracy: 0.8840 - val_loss: 0.3503 - val_accuracy: 0.8688\n",
      "Epoch 44/100\n",
      "3113/3113 [==============================] - 25s 8ms/step - loss: 0.3076 - accuracy: 0.8846 - val_loss: 0.3448 - val_accuracy: 0.8690\n",
      "Epoch 45/100\n",
      "3113/3113 [==============================] - 21s 7ms/step - loss: 0.3069 - accuracy: 0.8844 - val_loss: 0.3543 - val_accuracy: 0.8703\n",
      "Epoch 46/100\n",
      "3113/3113 [==============================] - 19s 6ms/step - loss: 0.3054 - accuracy: 0.8853 - val_loss: 0.3537 - val_accuracy: 0.8690\n",
      "Epoch 47/100\n",
      "3113/3113 [==============================] - 27s 9ms/step - loss: 0.3042 - accuracy: 0.8855 - val_loss: 0.3518 - val_accuracy: 0.8685\n",
      "Epoch 48/100\n",
      "3113/3113 [==============================] - 30s 10ms/step - loss: 0.3034 - accuracy: 0.8855 - val_loss: 0.3591 - val_accuracy: 0.8672\n",
      "Epoch 49/100\n",
      "3113/3113 [==============================] - 30s 10ms/step - loss: 0.3033 - accuracy: 0.8860 - val_loss: 0.3631 - val_accuracy: 0.8699\n",
      "Epoch 50/100\n",
      "3113/3113 [==============================] - 29s 9ms/step - loss: 0.3021 - accuracy: 0.8858 - val_loss: 0.3574 - val_accuracy: 0.8674\n",
      "Epoch 51/100\n",
      "3113/3113 [==============================] - 31s 10ms/step - loss: 0.3017 - accuracy: 0.8868 - val_loss: 0.3501 - val_accuracy: 0.8695\n",
      "Epoch 52/100\n",
      "3113/3113 [==============================] - 30s 10ms/step - loss: 0.3004 - accuracy: 0.8867 - val_loss: 0.3729 - val_accuracy: 0.8689\n",
      "Epoch 53/100\n",
      "3113/3113 [==============================] - 28s 9ms/step - loss: 0.2997 - accuracy: 0.8873 - val_loss: 0.3639 - val_accuracy: 0.8682\n",
      "Epoch 54/100\n",
      "3113/3113 [==============================] - 30s 10ms/step - loss: 0.2988 - accuracy: 0.8875 - val_loss: 0.3540 - val_accuracy: 0.8688\n",
      "Epoch 55/100\n",
      "3113/3113 [==============================] - 23s 7ms/step - loss: 0.2977 - accuracy: 0.8879 - val_loss: 0.3654 - val_accuracy: 0.8661\n",
      "Epoch 56/100\n",
      "3113/3113 [==============================] - 33s 11ms/step - loss: 0.2966 - accuracy: 0.8879 - val_loss: 0.3645 - val_accuracy: 0.8648\n",
      "Epoch 57/100\n",
      "3113/3113 [==============================] - 29s 9ms/step - loss: 0.2962 - accuracy: 0.8884 - val_loss: 0.3741 - val_accuracy: 0.8641\n",
      "Epoch 58/100\n",
      "3113/3113 [==============================] - 29s 9ms/step - loss: 0.2952 - accuracy: 0.8888 - val_loss: 0.3741 - val_accuracy: 0.8664\n",
      "Epoch 59/100\n",
      "3113/3113 [==============================] - 30s 10ms/step - loss: 0.2946 - accuracy: 0.8898 - val_loss: 0.3795 - val_accuracy: 0.8634\n",
      "Epoch 60/100\n",
      "3113/3113 [==============================] - 28s 9ms/step - loss: 0.2932 - accuracy: 0.8895 - val_loss: 0.3637 - val_accuracy: 0.8670\n",
      "Epoch 61/100\n",
      "3113/3113 [==============================] - 28s 9ms/step - loss: 0.2921 - accuracy: 0.8898 - val_loss: 0.3817 - val_accuracy: 0.8640\n",
      "Epoch 62/100\n",
      "3113/3113 [==============================] - 30s 10ms/step - loss: 0.2902 - accuracy: 0.8908 - val_loss: 0.3752 - val_accuracy: 0.8662\n",
      "Epoch 63/100\n",
      "3113/3113 [==============================] - 27s 9ms/step - loss: 0.2893 - accuracy: 0.8911 - val_loss: 0.3714 - val_accuracy: 0.8676\n",
      "Epoch 64/100\n",
      "3113/3113 [==============================] - 28s 9ms/step - loss: 0.2889 - accuracy: 0.8915 - val_loss: 0.3836 - val_accuracy: 0.8672\n",
      "Epoch 65/100\n",
      "3113/3113 [==============================] - 28s 9ms/step - loss: 0.2876 - accuracy: 0.8915 - val_loss: 0.3798 - val_accuracy: 0.8672\n",
      "Epoch 66/100\n",
      "3113/3113 [==============================] - 26s 8ms/step - loss: 0.2876 - accuracy: 0.8919 - val_loss: 0.3742 - val_accuracy: 0.8682\n",
      "Epoch 67/100\n",
      "3113/3113 [==============================] - 30s 10ms/step - loss: 0.2873 - accuracy: 0.8918 - val_loss: 0.3712 - val_accuracy: 0.8658\n",
      "Epoch 68/100\n",
      "3113/3113 [==============================] - 29s 9ms/step - loss: 0.2849 - accuracy: 0.8925 - val_loss: 0.3868 - val_accuracy: 0.8672\n",
      "Epoch 69/100\n",
      "3113/3113 [==============================] - 31s 10ms/step - loss: 0.2840 - accuracy: 0.8927 - val_loss: 0.3724 - val_accuracy: 0.8659\n",
      "Epoch 70/100\n",
      "3113/3113 [==============================] - 26s 8ms/step - loss: 0.2825 - accuracy: 0.8933 - val_loss: 0.3775 - val_accuracy: 0.8675\n",
      "Epoch 71/100\n",
      "3113/3113 [==============================] - 28s 9ms/step - loss: 0.2821 - accuracy: 0.8932 - val_loss: 0.3923 - val_accuracy: 0.8639\n",
      "Epoch 72/100\n",
      "3113/3113 [==============================] - 27s 9ms/step - loss: 0.2811 - accuracy: 0.8944 - val_loss: 0.3912 - val_accuracy: 0.8653\n",
      "Epoch 73/100\n",
      "3113/3113 [==============================] - 31s 10ms/step - loss: 0.2801 - accuracy: 0.8945 - val_loss: 0.4030 - val_accuracy: 0.8631\n",
      "Epoch 74/100\n",
      "3113/3113 [==============================] - 31s 10ms/step - loss: 0.2797 - accuracy: 0.8944 - val_loss: 0.3857 - val_accuracy: 0.8655\n",
      "Epoch 75/100\n",
      "3113/3113 [==============================] - 28s 9ms/step - loss: 0.2773 - accuracy: 0.8955 - val_loss: 0.4187 - val_accuracy: 0.8652\n",
      "Epoch 76/100\n",
      "3113/3113 [==============================] - 30s 10ms/step - loss: 0.2764 - accuracy: 0.8958 - val_loss: 0.4098 - val_accuracy: 0.8630\n",
      "Epoch 77/100\n",
      "3113/3113 [==============================] - 23s 7ms/step - loss: 0.2756 - accuracy: 0.8961 - val_loss: 0.4227 - val_accuracy: 0.8688\n",
      "Epoch 78/100\n",
      "3113/3113 [==============================] - 24s 8ms/step - loss: 0.2754 - accuracy: 0.8958 - val_loss: 0.3909 - val_accuracy: 0.8671\n",
      "Epoch 79/100\n",
      "3113/3113 [==============================] - 24s 8ms/step - loss: 0.2744 - accuracy: 0.8965 - val_loss: 0.4175 - val_accuracy: 0.8621\n",
      "Epoch 80/100\n",
      "3113/3113 [==============================] - 25s 8ms/step - loss: 0.2736 - accuracy: 0.8973 - val_loss: 0.4086 - val_accuracy: 0.8646\n",
      "Epoch 81/100\n",
      "3113/3113 [==============================] - 22s 7ms/step - loss: 0.2721 - accuracy: 0.8978 - val_loss: 0.4187 - val_accuracy: 0.8624\n",
      "Epoch 82/100\n",
      "3113/3113 [==============================] - 25s 8ms/step - loss: 0.2719 - accuracy: 0.8975 - val_loss: 0.4287 - val_accuracy: 0.8640\n",
      "Epoch 83/100\n",
      "3113/3113 [==============================] - 31s 10ms/step - loss: 0.2722 - accuracy: 0.8977 - val_loss: 0.4459 - val_accuracy: 0.8575\n",
      "Epoch 84/100\n",
      "3113/3113 [==============================] - 23s 8ms/step - loss: 0.2690 - accuracy: 0.8987 - val_loss: 0.4131 - val_accuracy: 0.8663\n",
      "Epoch 85/100\n",
      "3113/3113 [==============================] - 26s 8ms/step - loss: 0.2703 - accuracy: 0.8975 - val_loss: 0.4245 - val_accuracy: 0.8631\n",
      "Epoch 86/100\n",
      "3113/3113 [==============================] - 27s 9ms/step - loss: 0.2680 - accuracy: 0.8982 - val_loss: 0.4189 - val_accuracy: 0.8644\n",
      "Epoch 87/100\n",
      "3113/3113 [==============================] - 20s 6ms/step - loss: 0.2666 - accuracy: 0.8992 - val_loss: 0.4347 - val_accuracy: 0.8625\n",
      "Epoch 88/100\n",
      "3113/3113 [==============================] - 22s 7ms/step - loss: 0.2656 - accuracy: 0.8997 - val_loss: 0.4968 - val_accuracy: 0.8660\n",
      "Epoch 89/100\n",
      "3113/3113 [==============================] - 28s 9ms/step - loss: 0.2644 - accuracy: 0.9003 - val_loss: 0.4141 - val_accuracy: 0.8655\n",
      "Epoch 90/100\n",
      "3113/3113 [==============================] - 30s 10ms/step - loss: 0.2640 - accuracy: 0.9001 - val_loss: 0.4399 - val_accuracy: 0.8646\n",
      "Epoch 91/100\n",
      "3113/3113 [==============================] - 29s 9ms/step - loss: 0.2636 - accuracy: 0.9006 - val_loss: 0.3978 - val_accuracy: 0.8654\n",
      "Epoch 92/100\n",
      "3113/3113 [==============================] - 28s 9ms/step - loss: 0.2603 - accuracy: 0.9013 - val_loss: 0.4686 - val_accuracy: 0.8642\n",
      "Epoch 93/100\n",
      "3113/3113 [==============================] - 28s 9ms/step - loss: 0.2609 - accuracy: 0.9014 - val_loss: 0.4546 - val_accuracy: 0.8617\n",
      "Epoch 94/100\n",
      "3113/3113 [==============================] - 29s 9ms/step - loss: 0.2609 - accuracy: 0.9012 - val_loss: 0.4446 - val_accuracy: 0.8636\n",
      "Epoch 95/100\n",
      "3113/3113 [==============================] - 28s 9ms/step - loss: 0.2593 - accuracy: 0.9014 - val_loss: 0.4443 - val_accuracy: 0.8610\n",
      "Epoch 96/100\n",
      "3113/3113 [==============================] - 27s 9ms/step - loss: 0.2584 - accuracy: 0.9021 - val_loss: 0.4532 - val_accuracy: 0.8605\n",
      "Epoch 97/100\n",
      "3113/3113 [==============================] - 26s 8ms/step - loss: 0.2566 - accuracy: 0.9026 - val_loss: 0.4651 - val_accuracy: 0.8653\n",
      "Epoch 98/100\n",
      "3113/3113 [==============================] - 29s 9ms/step - loss: 0.2560 - accuracy: 0.9026 - val_loss: 0.4751 - val_accuracy: 0.8603\n",
      "Epoch 99/100\n",
      "3113/3113 [==============================] - 29s 9ms/step - loss: 0.2538 - accuracy: 0.9039 - val_loss: 0.4977 - val_accuracy: 0.8628\n",
      "Epoch 100/100\n",
      "3113/3113 [==============================] - 22s 7ms/step - loss: 0.2542 - accuracy: 0.9035 - val_loss: 0.4379 - val_accuracy: 0.8647\n"
     ]
    },
    {
     "data": {
      "text/plain": [
       "<keras.callbacks.History at 0x164063ebb20>"
      ]
     },
     "execution_count": 79,
     "metadata": {},
     "output_type": "execute_result"
    }
   ],
   "source": [
    "model.fit(x_train,y_train,epochs=100,callbacks=checkpoint,validation_data=(x_test,y_test))"
   ]
  },
  {
   "cell_type": "code",
   "execution_count": 84,
   "metadata": {},
   "outputs": [],
   "source": [
    "model = load_model(\"best_model\")"
   ]
  },
  {
   "cell_type": "code",
   "execution_count": 85,
   "metadata": {},
   "outputs": [
    {
     "name": "stdout",
     "output_type": "stream",
     "text": [
      "3113/3113 [==============================] - 10s 3ms/step - loss: 0.3208 - accuracy: 0.8782\n"
     ]
    },
    {
     "data": {
      "text/plain": [
       "[0.32076776027679443, 0.8781523704528809]"
      ]
     },
     "execution_count": 85,
     "metadata": {},
     "output_type": "execute_result"
    }
   ],
   "source": [
    "model.evaluate(x_train,y_train)"
   ]
  },
  {
   "cell_type": "code",
   "execution_count": 86,
   "metadata": {},
   "outputs": [
    {
     "name": "stdout",
     "output_type": "stream",
     "text": [
      "1534/1534 [==============================] - 5s 3ms/step - loss: 0.3338 - accuracy: 0.8727\n"
     ]
    },
    {
     "data": {
      "text/plain": [
       "[0.3337894678115845, 0.8726509213447571]"
      ]
     },
     "execution_count": 86,
     "metadata": {},
     "output_type": "execute_result"
    }
   ],
   "source": [
    "model.evaluate(x_test,y_test)"
   ]
  }
 ],
 "metadata": {
  "kernelspec": {
   "display_name": "Python 3",
   "language": "python",
   "name": "python3"
  },
  "language_info": {
   "codemirror_mode": {
    "name": "ipython",
    "version": 3
   },
   "file_extension": ".py",
   "mimetype": "text/x-python",
   "name": "python",
   "nbconvert_exporter": "python",
   "pygments_lexer": "ipython3",
   "version": "3.10.9"
  }
 },
 "nbformat": 4,
 "nbformat_minor": 2
}
